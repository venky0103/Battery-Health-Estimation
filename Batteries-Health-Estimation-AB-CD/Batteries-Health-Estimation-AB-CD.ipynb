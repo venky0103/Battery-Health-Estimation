{
 "cells": [
  {
   "cell_type": "code",
   "execution_count": 1,
   "metadata": {},
   "outputs": [],
   "source": [
    "import pandas as pd"
   ]
  },
  {
   "cell_type": "code",
   "execution_count": 2,
   "metadata": {},
   "outputs": [],
   "source": [
    "import numpy as np"
   ]
  },
  {
   "cell_type": "code",
   "execution_count": 3,
   "metadata": {},
   "outputs": [],
   "source": [
    "import datetime"
   ]
  },
  {
   "cell_type": "code",
   "execution_count": 4,
   "metadata": {},
   "outputs": [],
   "source": [
    "import time"
   ]
  },
  {
   "cell_type": "code",
   "execution_count": 5,
   "metadata": {},
   "outputs": [],
   "source": [
    "from scipy.io import loadmat"
   ]
  },
  {
   "cell_type": "code",
   "execution_count": 6,
   "metadata": {},
   "outputs": [],
   "source": [
    "from sklearn.preprocessing import MinMaxScaler"
   ]
  },
  {
   "cell_type": "code",
   "execution_count": 7,
   "metadata": {},
   "outputs": [],
   "source": [
    "from sklearn.metrics import mean_squared_error"
   ]
  },
  {
   "cell_type": "code",
   "execution_count": 8,
   "metadata": {},
   "outputs": [],
   "source": [
    "from sklearn import metrics"
   ]
  },
  {
   "cell_type": "code",
   "execution_count": 9,
   "metadata": {},
   "outputs": [],
   "source": [
    "import matplotlib.pyplot as plt"
   ]
  },
  {
   "cell_type": "code",
   "execution_count": 10,
   "metadata": {},
   "outputs": [],
   "source": [
    "import seaborn as sns"
   ]
  },
  {
   "cell_type": "code",
   "execution_count": 11,
   "metadata": {},
   "outputs": [],
   "source": [
    "from sklearn.preprocessing import StandardScaler"
   ]
  },
  {
   "cell_type": "code",
   "execution_count": 12,
   "metadata": {},
   "outputs": [],
   "source": [
    "from sklearn.model_selection import (train_test_split, StratifiedKFold)"
   ]
  },
  {
   "cell_type": "code",
   "execution_count": 13,
   "metadata": {},
   "outputs": [],
   "source": [
    "from sklearn.pipeline import Pipeline"
   ]
  },
  {
   "cell_type": "code",
   "execution_count": 14,
   "metadata": {},
   "outputs": [],
   "source": [
    "from sklearn.compose import ColumnTransformer"
   ]
  },
  {
   "cell_type": "code",
   "execution_count": 15,
   "metadata": {},
   "outputs": [],
   "source": [
    "from sklearn.impute import SimpleImputer"
   ]
  },
  {
   "cell_type": "code",
   "execution_count": 16,
   "metadata": {},
   "outputs": [],
   "source": [
    "from sklearn.ensemble import RandomForestRegressor, AdaBoostRegressor, GradientBoostingRegressor, BaggingRegressor"
   ]
  },
  {
   "cell_type": "code",
   "execution_count": 17,
   "metadata": {},
   "outputs": [],
   "source": [
    "from sklearn.svm import SVR"
   ]
  },
  {
   "cell_type": "code",
   "execution_count": 18,
   "metadata": {},
   "outputs": [],
   "source": [
    "from sklearn.tree import DecisionTreeRegressor, ExtraTreeRegressor"
   ]
  },
  {
   "cell_type": "code",
   "execution_count": 19,
   "metadata": {},
   "outputs": [],
   "source": [
    "from sklearn.linear_model import LinearRegression, SGDRegressor"
   ]
  },
  {
   "cell_type": "code",
   "execution_count": 20,
   "metadata": {},
   "outputs": [],
   "source": [
    "from sklearn.neighbors import KNeighborsRegressor"
   ]
  },
  {
   "cell_type": "code",
   "execution_count": 21,
   "metadata": {},
   "outputs": [],
   "source": [
    "from sklearn.metrics import mean_squared_error, mean_absolute_error"
   ]
  },
  {
   "cell_type": "code",
   "execution_count": null,
   "metadata": {},
   "outputs": [],
   "source": []
  },
  {
   "cell_type": "code",
   "execution_count": 22,
   "metadata": {},
   "outputs": [],
   "source": [
    "import tensorflow as tf"
   ]
  },
  {
   "cell_type": "code",
   "execution_count": 23,
   "metadata": {},
   "outputs": [],
   "source": [
    "from tensorflow.keras.models import Sequential"
   ]
  },
  {
   "cell_type": "code",
   "execution_count": 24,
   "metadata": {},
   "outputs": [],
   "source": [
    "from tensorflow.keras.layers import Dense, Dropout, Flatten, LSTM"
   ]
  },
  {
   "cell_type": "code",
   "execution_count": 25,
   "metadata": {},
   "outputs": [],
   "source": [
    "from tensorflow.keras.optimizers import Adam"
   ]
  },
  {
   "cell_type": "code",
   "execution_count": 26,
   "id": "60a21a36",
   "metadata": {
    "execution": {
     "iopub.execute_input": "2021-07-22T04:46:19.230224Z",
     "iopub.status.busy": "2021-07-22T04:46:19.226477Z",
     "iopub.status.idle": "2021-07-22T04:46:20.537839Z",
     "shell.execute_reply": "2021-07-22T04:46:20.537155Z",
     "shell.execute_reply.started": "2021-07-21T14:56:04.585329Z"
    },
    "papermill": {
     "duration": 1.35471,
     "end_time": "2021-07-22T04:46:20.537986",
     "exception": false,
     "start_time": "2021-07-22T04:46:19.183276",
     "status": "completed"
    },
    "tags": []
   },
   "outputs": [],
   "source": [
    "def load_data(battery):\n",
    "    mat = loadmat('Dataset/' + battery + '.mat')\n",
    "    print('Total data in dataset: ', len(mat[battery][0, 0]['cycle'][0]))\n",
    "    counter = 0\n",
    "    dataset = []\n",
    "    capacity_data = []\n",
    "    for i in range(len(mat[battery][0, 0]['cycle'][0])):\n",
    "        row = mat[battery][0, 0]['cycle'][0, i]\n",
    "        if row['type'][0] == 'discharge':\n",
    "            ambient_temperature = row['ambient_temperature'][0][0]\n",
    "            date_time = datetime.datetime(int(row['time'][0][0]),\n",
    "                               int(row['time'][0][1]),\n",
    "                               int(row['time'][0][2]),\n",
    "                               int(row['time'][0][3]),\n",
    "                               int(row['time'][0][4])) + datetime.timedelta(seconds=int(row['time'][0][5]))\n",
    "            data = row['data']\n",
    "            capacity = data[0][0]['Capacity'][0][0]\n",
    "            for j in range(len(data[0][0]['Voltage_measured'][0])):\n",
    "                voltage_measured = data[0][0]['Voltage_measured'][0][j]\n",
    "                current_measured = data[0][0]['Current_measured'][0][j]\n",
    "                temperature_measured = data[0][0]['Temperature_measured'][0][j]\n",
    "                current_load = data[0][0]['Current_load'][0][j]\n",
    "                voltage_load = data[0][0]['Voltage_load'][0][j]\n",
    "                time = data[0][0]['Time'][0][j]\n",
    "                dataset.append([counter + 1, ambient_temperature, date_time, capacity,\n",
    "                        voltage_measured, current_measured,\n",
    "                        temperature_measured, current_load,\n",
    "                        voltage_load, time])\n",
    "            capacity_data.append([counter + 1, ambient_temperature, date_time, capacity])\n",
    "            counter = counter + 1\n",
    "    print(dataset[0])\n",
    "    return [pd.DataFrame(data=dataset,\n",
    "                       columns=['cycle', 'ambient_temperature', 'datetime',\n",
    "                                'capacity', 'voltage_measured',\n",
    "                                'current_measured', 'temperature_measured',\n",
    "                                'current_load', 'voltage_load', 'time']),\n",
    "          pd.DataFrame(data=capacity_data,\n",
    "                       columns=['cycle', 'ambient_temperature', 'datetime','capacity'])]"
   ]
  },
  {
   "cell_type": "code",
   "execution_count": 27,
   "metadata": {},
   "outputs": [
    {
     "name": "stdout",
     "output_type": "stream",
     "text": [
      "Total data in dataset:  616\n",
      "[1, 24, datetime.datetime(2008, 4, 2, 15, 25, 41), 1.89105229539079, 4.199359521791473, -0.0018658918833680202, 23.93704394613529, -0.0004, 0.0, 0.0]\n"
     ]
    }
   ],
   "source": [
    "dataset, capacity = load_data('B0007')\n",
    "pd.set_option('display.max_columns', 10)"
   ]
  },
  {
   "cell_type": "code",
   "execution_count": 28,
   "metadata": {},
   "outputs": [
    {
     "data": {
      "text/html": [
       "<div>\n",
       "<style scoped>\n",
       "    .dataframe tbody tr th:only-of-type {\n",
       "        vertical-align: middle;\n",
       "    }\n",
       "\n",
       "    .dataframe tbody tr th {\n",
       "        vertical-align: top;\n",
       "    }\n",
       "\n",
       "    .dataframe thead th {\n",
       "        text-align: right;\n",
       "    }\n",
       "</style>\n",
       "<table border=\"1\" class=\"dataframe\">\n",
       "  <thead>\n",
       "    <tr style=\"text-align: right;\">\n",
       "      <th></th>\n",
       "      <th>cycle</th>\n",
       "      <th>ambient_temperature</th>\n",
       "      <th>datetime</th>\n",
       "      <th>capacity</th>\n",
       "      <th>voltage_measured</th>\n",
       "      <th>current_measured</th>\n",
       "      <th>temperature_measured</th>\n",
       "      <th>current_load</th>\n",
       "      <th>voltage_load</th>\n",
       "      <th>time</th>\n",
       "    </tr>\n",
       "  </thead>\n",
       "  <tbody>\n",
       "    <tr>\n",
       "      <th>0</th>\n",
       "      <td>1</td>\n",
       "      <td>24</td>\n",
       "      <td>2008-04-02 15:25:41</td>\n",
       "      <td>1.891052</td>\n",
       "      <td>4.199360</td>\n",
       "      <td>-0.001866</td>\n",
       "      <td>23.937044</td>\n",
       "      <td>-0.0004</td>\n",
       "      <td>0.000</td>\n",
       "      <td>0.000</td>\n",
       "    </tr>\n",
       "    <tr>\n",
       "      <th>1</th>\n",
       "      <td>1</td>\n",
       "      <td>24</td>\n",
       "      <td>2008-04-02 15:25:41</td>\n",
       "      <td>1.891052</td>\n",
       "      <td>4.199497</td>\n",
       "      <td>-0.002139</td>\n",
       "      <td>23.924074</td>\n",
       "      <td>-0.0004</td>\n",
       "      <td>4.215</td>\n",
       "      <td>16.781</td>\n",
       "    </tr>\n",
       "    <tr>\n",
       "      <th>2</th>\n",
       "      <td>1</td>\n",
       "      <td>24</td>\n",
       "      <td>2008-04-02 15:25:41</td>\n",
       "      <td>1.891052</td>\n",
       "      <td>3.985606</td>\n",
       "      <td>-1.988778</td>\n",
       "      <td>24.004257</td>\n",
       "      <td>-2.0000</td>\n",
       "      <td>3.003</td>\n",
       "      <td>35.703</td>\n",
       "    </tr>\n",
       "    <tr>\n",
       "      <th>3</th>\n",
       "      <td>1</td>\n",
       "      <td>24</td>\n",
       "      <td>2008-04-02 15:25:41</td>\n",
       "      <td>1.891052</td>\n",
       "      <td>3.963247</td>\n",
       "      <td>-1.992558</td>\n",
       "      <td>24.162868</td>\n",
       "      <td>-2.0000</td>\n",
       "      <td>2.987</td>\n",
       "      <td>53.781</td>\n",
       "    </tr>\n",
       "    <tr>\n",
       "      <th>4</th>\n",
       "      <td>1</td>\n",
       "      <td>24</td>\n",
       "      <td>2008-04-02 15:25:41</td>\n",
       "      <td>1.891052</td>\n",
       "      <td>3.946647</td>\n",
       "      <td>-1.988491</td>\n",
       "      <td>24.346368</td>\n",
       "      <td>-2.0000</td>\n",
       "      <td>2.972</td>\n",
       "      <td>71.922</td>\n",
       "    </tr>\n",
       "  </tbody>\n",
       "</table>\n",
       "</div>"
      ],
      "text/plain": [
       "   cycle  ambient_temperature            datetime  capacity  voltage_measured  \\\n",
       "0      1                   24 2008-04-02 15:25:41  1.891052          4.199360   \n",
       "1      1                   24 2008-04-02 15:25:41  1.891052          4.199497   \n",
       "2      1                   24 2008-04-02 15:25:41  1.891052          3.985606   \n",
       "3      1                   24 2008-04-02 15:25:41  1.891052          3.963247   \n",
       "4      1                   24 2008-04-02 15:25:41  1.891052          3.946647   \n",
       "\n",
       "   current_measured  temperature_measured  current_load  voltage_load    time  \n",
       "0         -0.001866             23.937044       -0.0004         0.000   0.000  \n",
       "1         -0.002139             23.924074       -0.0004         4.215  16.781  \n",
       "2         -1.988778             24.004257       -2.0000         3.003  35.703  \n",
       "3         -1.992558             24.162868       -2.0000         2.987  53.781  \n",
       "4         -1.988491             24.346368       -2.0000         2.972  71.922  "
      ]
     },
     "execution_count": 28,
     "metadata": {},
     "output_type": "execute_result"
    }
   ],
   "source": [
    "dataset.head()"
   ]
  },
  {
   "cell_type": "code",
   "execution_count": 29,
   "metadata": {},
   "outputs": [
    {
     "data": {
      "text/html": [
       "<div>\n",
       "<style scoped>\n",
       "    .dataframe tbody tr th:only-of-type {\n",
       "        vertical-align: middle;\n",
       "    }\n",
       "\n",
       "    .dataframe tbody tr th {\n",
       "        vertical-align: top;\n",
       "    }\n",
       "\n",
       "    .dataframe thead th {\n",
       "        text-align: right;\n",
       "    }\n",
       "</style>\n",
       "<table border=\"1\" class=\"dataframe\">\n",
       "  <thead>\n",
       "    <tr style=\"text-align: right;\">\n",
       "      <th></th>\n",
       "      <th>cycle</th>\n",
       "      <th>ambient_temperature</th>\n",
       "      <th>datetime</th>\n",
       "      <th>capacity</th>\n",
       "      <th>voltage_measured</th>\n",
       "      <th>current_measured</th>\n",
       "      <th>temperature_measured</th>\n",
       "      <th>current_load</th>\n",
       "      <th>voltage_load</th>\n",
       "      <th>time</th>\n",
       "    </tr>\n",
       "  </thead>\n",
       "  <tbody>\n",
       "    <tr>\n",
       "      <th>11059</th>\n",
       "      <td>46</td>\n",
       "      <td>24</td>\n",
       "      <td>2008-04-26 05:57:35</td>\n",
       "      <td>1.785885</td>\n",
       "      <td>3.507309</td>\n",
       "      <td>-1.988643</td>\n",
       "      <td>31.927830</td>\n",
       "      <td>2.0</td>\n",
       "      <td>2.570</td>\n",
       "      <td>1977.140</td>\n",
       "    </tr>\n",
       "    <tr>\n",
       "      <th>37965</th>\n",
       "      <td>128</td>\n",
       "      <td>24</td>\n",
       "      <td>2008-05-18 08:00:50</td>\n",
       "      <td>1.492414</td>\n",
       "      <td>3.607869</td>\n",
       "      <td>-1.991119</td>\n",
       "      <td>30.084601</td>\n",
       "      <td>2.0</td>\n",
       "      <td>2.674</td>\n",
       "      <td>890.609</td>\n",
       "    </tr>\n",
       "    <tr>\n",
       "      <th>17202</th>\n",
       "      <td>64</td>\n",
       "      <td>24</td>\n",
       "      <td>2008-05-02 19:07:48</td>\n",
       "      <td>1.703652</td>\n",
       "      <td>3.691871</td>\n",
       "      <td>-1.991579</td>\n",
       "      <td>29.776244</td>\n",
       "      <td>2.0</td>\n",
       "      <td>2.753</td>\n",
       "      <td>806.375</td>\n",
       "    </tr>\n",
       "    <tr>\n",
       "      <th>12878</th>\n",
       "      <td>51</td>\n",
       "      <td>24</td>\n",
       "      <td>2008-04-30 02:43:55</td>\n",
       "      <td>1.790448</td>\n",
       "      <td>3.456560</td>\n",
       "      <td>-1.989197</td>\n",
       "      <td>34.521914</td>\n",
       "      <td>2.0</td>\n",
       "      <td>2.521</td>\n",
       "      <td>2492.860</td>\n",
       "    </tr>\n",
       "    <tr>\n",
       "      <th>26401</th>\n",
       "      <td>91</td>\n",
       "      <td>24</td>\n",
       "      <td>2008-05-09 20:28:09</td>\n",
       "      <td>1.625994</td>\n",
       "      <td>3.265980</td>\n",
       "      <td>-1.991094</td>\n",
       "      <td>37.857234</td>\n",
       "      <td>2.0</td>\n",
       "      <td>2.330</td>\n",
       "      <td>2717.547</td>\n",
       "    </tr>\n",
       "    <tr>\n",
       "      <th>41123</th>\n",
       "      <td>138</td>\n",
       "      <td>24</td>\n",
       "      <td>2008-05-20 15:57:27</td>\n",
       "      <td>1.472248</td>\n",
       "      <td>3.448527</td>\n",
       "      <td>-1.988826</td>\n",
       "      <td>33.755523</td>\n",
       "      <td>2.0</td>\n",
       "      <td>2.512</td>\n",
       "      <td>1659.015</td>\n",
       "    </tr>\n",
       "    <tr>\n",
       "      <th>15629</th>\n",
       "      <td>59</td>\n",
       "      <td>24</td>\n",
       "      <td>2008-05-01 18:11:10</td>\n",
       "      <td>1.739646</td>\n",
       "      <td>3.478513</td>\n",
       "      <td>-1.991389</td>\n",
       "      <td>34.037748</td>\n",
       "      <td>2.0</td>\n",
       "      <td>2.539</td>\n",
       "      <td>2164.546</td>\n",
       "    </tr>\n",
       "    <tr>\n",
       "      <th>50229</th>\n",
       "      <td>168</td>\n",
       "      <td>24</td>\n",
       "      <td>2008-05-27 20:45:42</td>\n",
       "      <td>1.432455</td>\n",
       "      <td>3.271987</td>\n",
       "      <td>-1.988641</td>\n",
       "      <td>36.823734</td>\n",
       "      <td>2.0</td>\n",
       "      <td>2.334</td>\n",
       "      <td>2288.687</td>\n",
       "    </tr>\n",
       "    <tr>\n",
       "      <th>18923</th>\n",
       "      <td>69</td>\n",
       "      <td>24</td>\n",
       "      <td>2008-05-03 18:58:13</td>\n",
       "      <td>1.677927</td>\n",
       "      <td>3.635119</td>\n",
       "      <td>-1.990432</td>\n",
       "      <td>30.078658</td>\n",
       "      <td>2.0</td>\n",
       "      <td>2.697</td>\n",
       "      <td>1012.437</td>\n",
       "    </tr>\n",
       "    <tr>\n",
       "      <th>10439</th>\n",
       "      <td>44</td>\n",
       "      <td>24</td>\n",
       "      <td>2008-04-25 20:03:55</td>\n",
       "      <td>1.806264</td>\n",
       "      <td>3.410969</td>\n",
       "      <td>-1.988021</td>\n",
       "      <td>34.778469</td>\n",
       "      <td>2.0</td>\n",
       "      <td>2.475</td>\n",
       "      <td>2783.312</td>\n",
       "    </tr>\n",
       "  </tbody>\n",
       "</table>\n",
       "</div>"
      ],
      "text/plain": [
       "       cycle  ambient_temperature            datetime  capacity  \\\n",
       "11059     46                   24 2008-04-26 05:57:35  1.785885   \n",
       "37965    128                   24 2008-05-18 08:00:50  1.492414   \n",
       "17202     64                   24 2008-05-02 19:07:48  1.703652   \n",
       "12878     51                   24 2008-04-30 02:43:55  1.790448   \n",
       "26401     91                   24 2008-05-09 20:28:09  1.625994   \n",
       "41123    138                   24 2008-05-20 15:57:27  1.472248   \n",
       "15629     59                   24 2008-05-01 18:11:10  1.739646   \n",
       "50229    168                   24 2008-05-27 20:45:42  1.432455   \n",
       "18923     69                   24 2008-05-03 18:58:13  1.677927   \n",
       "10439     44                   24 2008-04-25 20:03:55  1.806264   \n",
       "\n",
       "       voltage_measured  current_measured  temperature_measured  current_load  \\\n",
       "11059          3.507309         -1.988643             31.927830           2.0   \n",
       "37965          3.607869         -1.991119             30.084601           2.0   \n",
       "17202          3.691871         -1.991579             29.776244           2.0   \n",
       "12878          3.456560         -1.989197             34.521914           2.0   \n",
       "26401          3.265980         -1.991094             37.857234           2.0   \n",
       "41123          3.448527         -1.988826             33.755523           2.0   \n",
       "15629          3.478513         -1.991389             34.037748           2.0   \n",
       "50229          3.271987         -1.988641             36.823734           2.0   \n",
       "18923          3.635119         -1.990432             30.078658           2.0   \n",
       "10439          3.410969         -1.988021             34.778469           2.0   \n",
       "\n",
       "       voltage_load      time  \n",
       "11059         2.570  1977.140  \n",
       "37965         2.674   890.609  \n",
       "17202         2.753   806.375  \n",
       "12878         2.521  2492.860  \n",
       "26401         2.330  2717.547  \n",
       "41123         2.512  1659.015  \n",
       "15629         2.539  2164.546  \n",
       "50229         2.334  2288.687  \n",
       "18923         2.697  1012.437  \n",
       "10439         2.475  2783.312  "
      ]
     },
     "execution_count": 29,
     "metadata": {},
     "output_type": "execute_result"
    }
   ],
   "source": [
    "dataset.sample(10)"
   ]
  },
  {
   "cell_type": "code",
   "execution_count": 30,
   "metadata": {},
   "outputs": [
    {
     "data": {
      "text/plain": [
       "cycle                   0\n",
       "ambient_temperature     0\n",
       "datetime                0\n",
       "capacity                0\n",
       "voltage_measured        0\n",
       "current_measured        0\n",
       "temperature_measured    0\n",
       "current_load            0\n",
       "voltage_load            0\n",
       "time                    0\n",
       "dtype: int64"
      ]
     },
     "execution_count": 30,
     "metadata": {},
     "output_type": "execute_result"
    }
   ],
   "source": [
    "dataset.isna().sum()"
   ]
  },
  {
   "cell_type": "code",
   "execution_count": 31,
   "metadata": {},
   "outputs": [
    {
     "data": {
      "text/html": [
       "<div>\n",
       "<style scoped>\n",
       "    .dataframe tbody tr th:only-of-type {\n",
       "        vertical-align: middle;\n",
       "    }\n",
       "\n",
       "    .dataframe tbody tr th {\n",
       "        vertical-align: top;\n",
       "    }\n",
       "\n",
       "    .dataframe thead th {\n",
       "        text-align: right;\n",
       "    }\n",
       "</style>\n",
       "<table border=\"1\" class=\"dataframe\">\n",
       "  <thead>\n",
       "    <tr style=\"text-align: right;\">\n",
       "      <th></th>\n",
       "      <th>cycle</th>\n",
       "      <th>ambient_temperature</th>\n",
       "      <th>capacity</th>\n",
       "      <th>voltage_measured</th>\n",
       "      <th>current_measured</th>\n",
       "      <th>temperature_measured</th>\n",
       "      <th>current_load</th>\n",
       "      <th>voltage_load</th>\n",
       "      <th>time</th>\n",
       "    </tr>\n",
       "  </thead>\n",
       "  <tbody>\n",
       "    <tr>\n",
       "      <th>count</th>\n",
       "      <td>50285.000000</td>\n",
       "      <td>50285.0</td>\n",
       "      <td>50285.000000</td>\n",
       "      <td>50285.000000</td>\n",
       "      <td>50285.000000</td>\n",
       "      <td>50285.000000</td>\n",
       "      <td>50285.000000</td>\n",
       "      <td>50285.000000</td>\n",
       "      <td>50285.000000</td>\n",
       "    </tr>\n",
       "    <tr>\n",
       "      <th>mean</th>\n",
       "      <td>88.125942</td>\n",
       "      <td>24.0</td>\n",
       "      <td>1.632911</td>\n",
       "      <td>3.516153</td>\n",
       "      <td>-1.910982</td>\n",
       "      <td>32.374078</td>\n",
       "      <td>1.471671</td>\n",
       "      <td>2.499169</td>\n",
       "      <td>1546.208924</td>\n",
       "    </tr>\n",
       "    <tr>\n",
       "      <th>std</th>\n",
       "      <td>45.699687</td>\n",
       "      <td>0.0</td>\n",
       "      <td>0.152751</td>\n",
       "      <td>0.268665</td>\n",
       "      <td>0.387120</td>\n",
       "      <td>4.004486</td>\n",
       "      <td>1.294697</td>\n",
       "      <td>0.550780</td>\n",
       "      <td>906.640295</td>\n",
       "    </tr>\n",
       "    <tr>\n",
       "      <th>min</th>\n",
       "      <td>1.000000</td>\n",
       "      <td>24.0</td>\n",
       "      <td>1.400455</td>\n",
       "      <td>1.737030</td>\n",
       "      <td>-2.006038</td>\n",
       "      <td>22.969923</td>\n",
       "      <td>-2.000000</td>\n",
       "      <td>0.000000</td>\n",
       "      <td>0.000000</td>\n",
       "    </tr>\n",
       "    <tr>\n",
       "      <th>25%</th>\n",
       "      <td>50.000000</td>\n",
       "      <td>24.0</td>\n",
       "      <td>1.497822</td>\n",
       "      <td>3.408859</td>\n",
       "      <td>-1.990432</td>\n",
       "      <td>29.683138</td>\n",
       "      <td>2.000000</td>\n",
       "      <td>2.470000</td>\n",
       "      <td>768.563000</td>\n",
       "    </tr>\n",
       "    <tr>\n",
       "      <th>50%</th>\n",
       "      <td>88.000000</td>\n",
       "      <td>24.0</td>\n",
       "      <td>1.605663</td>\n",
       "      <td>3.520359</td>\n",
       "      <td>-1.989406</td>\n",
       "      <td>32.294479</td>\n",
       "      <td>2.000000</td>\n",
       "      <td>2.582000</td>\n",
       "      <td>1537.031000</td>\n",
       "    </tr>\n",
       "    <tr>\n",
       "      <th>75%</th>\n",
       "      <td>127.000000</td>\n",
       "      <td>24.0</td>\n",
       "      <td>1.785885</td>\n",
       "      <td>3.681617</td>\n",
       "      <td>-1.988328</td>\n",
       "      <td>35.230784</td>\n",
       "      <td>2.000000</td>\n",
       "      <td>2.743000</td>\n",
       "      <td>2305.984000</td>\n",
       "    </tr>\n",
       "    <tr>\n",
       "      <th>max</th>\n",
       "      <td>168.000000</td>\n",
       "      <td>24.0</td>\n",
       "      <td>1.891052</td>\n",
       "      <td>4.233325</td>\n",
       "      <td>0.005072</td>\n",
       "      <td>42.332522</td>\n",
       "      <td>2.000000</td>\n",
       "      <td>4.249000</td>\n",
       "      <td>3690.234000</td>\n",
       "    </tr>\n",
       "  </tbody>\n",
       "</table>\n",
       "</div>"
      ],
      "text/plain": [
       "              cycle  ambient_temperature      capacity  voltage_measured  \\\n",
       "count  50285.000000              50285.0  50285.000000      50285.000000   \n",
       "mean      88.125942                 24.0      1.632911          3.516153   \n",
       "std       45.699687                  0.0      0.152751          0.268665   \n",
       "min        1.000000                 24.0      1.400455          1.737030   \n",
       "25%       50.000000                 24.0      1.497822          3.408859   \n",
       "50%       88.000000                 24.0      1.605663          3.520359   \n",
       "75%      127.000000                 24.0      1.785885          3.681617   \n",
       "max      168.000000                 24.0      1.891052          4.233325   \n",
       "\n",
       "       current_measured  temperature_measured  current_load  voltage_load  \\\n",
       "count      50285.000000          50285.000000  50285.000000  50285.000000   \n",
       "mean          -1.910982             32.374078      1.471671      2.499169   \n",
       "std            0.387120              4.004486      1.294697      0.550780   \n",
       "min           -2.006038             22.969923     -2.000000      0.000000   \n",
       "25%           -1.990432             29.683138      2.000000      2.470000   \n",
       "50%           -1.989406             32.294479      2.000000      2.582000   \n",
       "75%           -1.988328             35.230784      2.000000      2.743000   \n",
       "max            0.005072             42.332522      2.000000      4.249000   \n",
       "\n",
       "               time  \n",
       "count  50285.000000  \n",
       "mean    1546.208924  \n",
       "std      906.640295  \n",
       "min        0.000000  \n",
       "25%      768.563000  \n",
       "50%     1537.031000  \n",
       "75%     2305.984000  \n",
       "max     3690.234000  "
      ]
     },
     "execution_count": 31,
     "metadata": {},
     "output_type": "execute_result"
    }
   ],
   "source": [
    "dataset.describe()"
   ]
  },
  {
   "cell_type": "code",
   "execution_count": 32,
   "metadata": {},
   "outputs": [
    {
     "name": "stdout",
     "output_type": "stream",
     "text": [
      "<class 'pandas.core.frame.DataFrame'>\n",
      "RangeIndex: 50285 entries, 0 to 50284\n",
      "Data columns (total 10 columns):\n",
      " #   Column                Non-Null Count  Dtype         \n",
      "---  ------                --------------  -----         \n",
      " 0   cycle                 50285 non-null  int64         \n",
      " 1   ambient_temperature   50285 non-null  int64         \n",
      " 2   datetime              50285 non-null  datetime64[ns]\n",
      " 3   capacity              50285 non-null  float64       \n",
      " 4   voltage_measured      50285 non-null  float64       \n",
      " 5   current_measured      50285 non-null  float64       \n",
      " 6   temperature_measured  50285 non-null  float64       \n",
      " 7   current_load          50285 non-null  float64       \n",
      " 8   voltage_load          50285 non-null  float64       \n",
      " 9   time                  50285 non-null  float64       \n",
      "dtypes: datetime64[ns](1), float64(7), int64(2)\n",
      "memory usage: 3.8 MB\n"
     ]
    }
   ],
   "source": [
    "dataset.info()"
   ]
  },
  {
   "cell_type": "code",
   "execution_count": 33,
   "metadata": {},
   "outputs": [
    {
     "data": {
      "image/png": "[encoded data removed]",
      "text/plain": [
       "<Figure size 864x576 with 2 Axes>"
      ]
     },
     "metadata": {
      "needs_background": "light"
     },
     "output_type": "display_data"
    }
   ],
   "source": [
    "plt.figure(figsize=(12, 8))\n",
    "k=9\n",
    "cm = dataset.corr()\n",
    "sns.set(font_scale=1.4)\n",
    "hm = sns.heatmap(cm, cbar=True, annot=True, square=True, fmt='.2f', annot_kws={'size': 10}, \n",
    "                 cmap=\"rainbow\")\n",
    "plt.show()"
   ]
  },
  {
   "cell_type": "code",
   "execution_count": 34,
   "metadata": {},
   "outputs": [
    {
     "name": "stderr",
     "output_type": "stream",
     "text": [
      "s:\\anacondaprogramdata\\anaconda3\\lib\\site-packages\\seaborn\\distributions.py:305: UserWarning: Dataset has 0 variance; skipping density estimate.\n",
      "  warnings.warn(msg, UserWarning)\n"
     ]
    },
    {
     "data": {
      "image/png": "[encoded data removed]",
      "text/plain": [
       "<Figure size 1620x1620 with 90 Axes>"
      ]
     },
     "metadata": {},
     "output_type": "display_data"
    }
   ],
   "source": [
    "sns.pairplot(dataset, \n",
    "             diag_kind='kde', kind='reg')\n",
    "plt.show()"
   ]
  },
  {
   "cell_type": "code",
   "execution_count": 35,
   "id": "40ebb0d9",
   "metadata": {
    "execution": {
     "iopub.execute_input": "2021-07-22T04:46:20.658266Z",
     "iopub.status.busy": "2021-07-22T04:46:20.657439Z",
     "iopub.status.idle": "2021-07-22T04:46:20.967711Z",
     "shell.execute_reply": "2021-07-22T04:46:20.967106Z",
     "shell.execute_reply.started": "2021-07-21T14:56:05.914857Z"
    },
    "papermill": {
     "duration": 0.345743,
     "end_time": "2021-07-22T04:46:20.967861",
     "exception": false,
     "start_time": "2021-07-22T04:46:20.622118",
     "status": "completed"
    },
    "tags": []
   },
   "outputs": [
    {
     "data": {
      "text/plain": [
       "Text(0.5, 1.0, 'Discharge B0005')"
      ]
     },
     "execution_count": 35,
     "metadata": {},
     "output_type": "execute_result"
    },
    {
     "data": {
      "image/png": "[encoded data removed]",
      "text/plain": [
       "<Figure size 864x576 with 1 Axes>"
      ]
     },
     "metadata": {},
     "output_type": "display_data"
    }
   ],
   "source": [
    "plot_df = capacity.loc[(capacity['cycle']>=1),['cycle','capacity']]\n",
    "sns.set_style(\"darkgrid\")\n",
    "plt.figure(figsize=(12, 8))\n",
    "plt.plot(plot_df['cycle'], plot_df['capacity'])\n",
    "plt.plot([0.,len(capacity)], [1.4, 1.4])\n",
    "plt.ylabel('Capacity')\n",
    "adf = plt.gca().get_xaxis().get_major_formatter()\n",
    "plt.xlabel('cycle')\n",
    "plt.title('Discharge B0005')"
   ]
  },
  {
   "cell_type": "code",
   "execution_count": 36,
   "metadata": {},
   "outputs": [],
   "source": [
    "attrib=['cycle', 'datetime', 'capacity']"
   ]
  },
  {
   "cell_type": "code",
   "execution_count": 37,
   "metadata": {},
   "outputs": [],
   "source": [
    "dis_ele = capacity[attrib]"
   ]
  },
  {
   "cell_type": "code",
   "execution_count": 38,
   "metadata": {},
   "outputs": [],
   "source": [
    "C = dis_ele['capacity'][0]"
   ]
  },
  {
   "cell_type": "code",
   "execution_count": 39,
   "id": "ad513dfc",
   "metadata": {
    "execution": {
     "iopub.execute_input": "2021-07-22T04:46:21.135730Z",
     "iopub.status.busy": "2021-07-22T04:46:21.129892Z",
     "iopub.status.idle": "2021-07-22T04:46:21.159849Z",
     "shell.execute_reply": "2021-07-22T04:46:21.159126Z",
     "shell.execute_reply.started": "2021-07-21T14:56:06.21875Z"
    },
    "papermill": {
     "duration": 0.101645,
     "end_time": "2021-07-22T04:46:21.160002",
     "exception": false,
     "start_time": "2021-07-22T04:46:21.058357",
     "status": "completed"
    },
    "tags": []
   },
   "outputs": [
    {
     "name": "stdout",
     "output_type": "stream",
     "text": [
      "   cycle            datetime  capacity       SoH\n",
      "0      1 2008-04-02 15:25:41  1.891052  1.000000\n",
      "1      2 2008-04-02 19:43:48  1.880637  0.994492\n",
      "2      3 2008-04-03 00:01:06  1.880663  0.994506\n",
      "3      4 2008-04-03 04:16:37  1.880771  0.994563\n",
      "4      5 2008-04-03 08:33:25  1.879451  0.993865\n"
     ]
    }
   ],
   "source": [
    "for i in range(len(dis_ele)):\n",
    "    dis_ele['SoH']=(dis_ele['capacity'])/C\n",
    "print(dis_ele.head(5))"
   ]
  },
  {
   "cell_type": "code",
   "execution_count": 40,
   "id": "4d1b9991",
   "metadata": {
    "execution": {
     "iopub.execute_input": "2021-07-22T04:46:21.305481Z",
     "iopub.status.busy": "2021-07-22T04:46:21.288903Z",
     "iopub.status.idle": "2021-07-22T04:46:21.535452Z",
     "shell.execute_reply": "2021-07-22T04:46:21.534745Z",
     "shell.execute_reply.started": "2021-07-21T14:56:06.288338Z"
    },
    "papermill": {
     "duration": 0.284715,
     "end_time": "2021-07-22T04:46:21.535620",
     "exception": false,
     "start_time": "2021-07-22T04:46:21.250905",
     "status": "completed"
    },
    "tags": []
   },
   "outputs": [
    {
     "data": {
      "text/plain": [
       "Text(0.5, 1.0, 'Discharge B0005')"
      ]
     },
     "execution_count": 40,
     "metadata": {},
     "output_type": "execute_result"
    },
    {
     "data": {
      "image/png": "[encoded data removed]",
      "text/plain": [
       "<Figure size 576x360 with 1 Axes>"
      ]
     },
     "metadata": {},
     "output_type": "display_data"
    }
   ],
   "source": [
    "plot_df = dis_ele.loc[(dis_ele['cycle']>=1),['cycle','SoH']]\n",
    "sns.set_style(\"white\")\n",
    "plt.figure(figsize=(8, 5))\n",
    "plt.plot(plot_df['cycle'], plot_df['SoH'])\n",
    "plt.plot([0.,len(capacity)], [0.70, 0.70])\n",
    "plt.ylabel('SOH')\n",
    "adf = plt.gca().get_xaxis().get_major_formatter()\n",
    "plt.xlabel('cycle')\n",
    "plt.title('Discharge B0005')"
   ]
  },
  {
   "cell_type": "code",
   "execution_count": 41,
   "metadata": {},
   "outputs": [],
   "source": [
    "C = dataset['capacity'][0]"
   ]
  },
  {
   "cell_type": "code",
   "execution_count": 42,
   "metadata": {},
   "outputs": [],
   "source": [
    "soh = []"
   ]
  },
  {
   "cell_type": "code",
   "execution_count": 43,
   "metadata": {},
   "outputs": [],
   "source": [
    "for i in range(len(dataset)):\n",
    "    soh.append([dataset['capacity'][i] / C])"
   ]
  },
  {
   "cell_type": "code",
   "execution_count": 44,
   "metadata": {},
   "outputs": [],
   "source": [
    "soh = pd.DataFrame(data=soh, columns=['SoH'])"
   ]
  },
  {
   "cell_type": "code",
   "execution_count": 45,
   "metadata": {},
   "outputs": [
    {
     "data": {
      "text/html": [
       "<div>\n",
       "<style scoped>\n",
       "    .dataframe tbody tr th:only-of-type {\n",
       "        vertical-align: middle;\n",
       "    }\n",
       "\n",
       "    .dataframe tbody tr th {\n",
       "        vertical-align: top;\n",
       "    }\n",
       "\n",
       "    .dataframe thead th {\n",
       "        text-align: right;\n",
       "    }\n",
       "</style>\n",
       "<table border=\"1\" class=\"dataframe\">\n",
       "  <thead>\n",
       "    <tr style=\"text-align: right;\">\n",
       "      <th></th>\n",
       "      <th>SoH</th>\n",
       "    </tr>\n",
       "  </thead>\n",
       "  <tbody>\n",
       "    <tr>\n",
       "      <th>0</th>\n",
       "      <td>1.0</td>\n",
       "    </tr>\n",
       "    <tr>\n",
       "      <th>1</th>\n",
       "      <td>1.0</td>\n",
       "    </tr>\n",
       "    <tr>\n",
       "      <th>2</th>\n",
       "      <td>1.0</td>\n",
       "    </tr>\n",
       "    <tr>\n",
       "      <th>3</th>\n",
       "      <td>1.0</td>\n",
       "    </tr>\n",
       "    <tr>\n",
       "      <th>4</th>\n",
       "      <td>1.0</td>\n",
       "    </tr>\n",
       "  </tbody>\n",
       "</table>\n",
       "</div>"
      ],
      "text/plain": [
       "   SoH\n",
       "0  1.0\n",
       "1  1.0\n",
       "2  1.0\n",
       "3  1.0\n",
       "4  1.0"
      ]
     },
     "execution_count": 45,
     "metadata": {},
     "output_type": "execute_result"
    }
   ],
   "source": [
    "soh.head()"
   ]
  },
  {
   "cell_type": "code",
   "execution_count": 46,
   "metadata": {},
   "outputs": [
    {
     "data": {
      "text/html": [
       "<div>\n",
       "<style scoped>\n",
       "    .dataframe tbody tr th:only-of-type {\n",
       "        vertical-align: middle;\n",
       "    }\n",
       "\n",
       "    .dataframe tbody tr th {\n",
       "        vertical-align: top;\n",
       "    }\n",
       "\n",
       "    .dataframe thead th {\n",
       "        text-align: right;\n",
       "    }\n",
       "</style>\n",
       "<table border=\"1\" class=\"dataframe\">\n",
       "  <thead>\n",
       "    <tr style=\"text-align: right;\">\n",
       "      <th></th>\n",
       "      <th>SoH</th>\n",
       "    </tr>\n",
       "  </thead>\n",
       "  <tbody>\n",
       "    <tr>\n",
       "      <th>50083</th>\n",
       "      <td>0.757491</td>\n",
       "    </tr>\n",
       "    <tr>\n",
       "      <th>49560</th>\n",
       "      <td>0.740569</td>\n",
       "    </tr>\n",
       "    <tr>\n",
       "      <th>42731</th>\n",
       "      <td>0.767623</td>\n",
       "    </tr>\n",
       "    <tr>\n",
       "      <th>3558</th>\n",
       "      <td>0.977434</td>\n",
       "    </tr>\n",
       "    <tr>\n",
       "      <th>28892</th>\n",
       "      <td>0.830119</td>\n",
       "    </tr>\n",
       "    <tr>\n",
       "      <th>25406</th>\n",
       "      <td>0.843872</td>\n",
       "    </tr>\n",
       "    <tr>\n",
       "      <th>13357</th>\n",
       "      <td>0.938805</td>\n",
       "    </tr>\n",
       "    <tr>\n",
       "      <th>28092</th>\n",
       "      <td>0.835500</td>\n",
       "    </tr>\n",
       "    <tr>\n",
       "      <th>46247</th>\n",
       "      <td>0.757055</td>\n",
       "    </tr>\n",
       "    <tr>\n",
       "      <th>26824</th>\n",
       "      <td>0.849084</td>\n",
       "    </tr>\n",
       "  </tbody>\n",
       "</table>\n",
       "</div>"
      ],
      "text/plain": [
       "            SoH\n",
       "50083  0.757491\n",
       "49560  0.740569\n",
       "42731  0.767623\n",
       "3558   0.977434\n",
       "28892  0.830119\n",
       "25406  0.843872\n",
       "13357  0.938805\n",
       "28092  0.835500\n",
       "46247  0.757055\n",
       "26824  0.849084"
      ]
     },
     "execution_count": 46,
     "metadata": {},
     "output_type": "execute_result"
    }
   ],
   "source": [
    "soh.sample(10)"
   ]
  },
  {
   "cell_type": "code",
   "execution_count": 47,
   "metadata": {},
   "outputs": [],
   "source": [
    "attribs=['capacity', 'voltage_measured', 'current_measured',\n",
    "         'temperature_measured', 'current_load', 'voltage_load']"
   ]
  },
  {
   "cell_type": "code",
   "execution_count": 48,
   "metadata": {},
   "outputs": [],
   "source": [
    "X = dataset[attribs]"
   ]
  },
  {
   "cell_type": "code",
   "execution_count": 49,
   "metadata": {},
   "outputs": [
    {
     "data": {
      "text/html": [
       "<div>\n",
       "<style scoped>\n",
       "    .dataframe tbody tr th:only-of-type {\n",
       "        vertical-align: middle;\n",
       "    }\n",
       "\n",
       "    .dataframe tbody tr th {\n",
       "        vertical-align: top;\n",
       "    }\n",
       "\n",
       "    .dataframe thead th {\n",
       "        text-align: right;\n",
       "    }\n",
       "</style>\n",
       "<table border=\"1\" class=\"dataframe\">\n",
       "  <thead>\n",
       "    <tr style=\"text-align: right;\">\n",
       "      <th></th>\n",
       "      <th>capacity</th>\n",
       "      <th>voltage_measured</th>\n",
       "      <th>current_measured</th>\n",
       "      <th>temperature_measured</th>\n",
       "      <th>current_load</th>\n",
       "      <th>voltage_load</th>\n",
       "    </tr>\n",
       "  </thead>\n",
       "  <tbody>\n",
       "    <tr>\n",
       "      <th>0</th>\n",
       "      <td>1.891052</td>\n",
       "      <td>4.199360</td>\n",
       "      <td>-0.001866</td>\n",
       "      <td>23.937044</td>\n",
       "      <td>-0.0004</td>\n",
       "      <td>0.000</td>\n",
       "    </tr>\n",
       "    <tr>\n",
       "      <th>1</th>\n",
       "      <td>1.891052</td>\n",
       "      <td>4.199497</td>\n",
       "      <td>-0.002139</td>\n",
       "      <td>23.924074</td>\n",
       "      <td>-0.0004</td>\n",
       "      <td>4.215</td>\n",
       "    </tr>\n",
       "    <tr>\n",
       "      <th>2</th>\n",
       "      <td>1.891052</td>\n",
       "      <td>3.985606</td>\n",
       "      <td>-1.988778</td>\n",
       "      <td>24.004257</td>\n",
       "      <td>-2.0000</td>\n",
       "      <td>3.003</td>\n",
       "    </tr>\n",
       "    <tr>\n",
       "      <th>3</th>\n",
       "      <td>1.891052</td>\n",
       "      <td>3.963247</td>\n",
       "      <td>-1.992558</td>\n",
       "      <td>24.162868</td>\n",
       "      <td>-2.0000</td>\n",
       "      <td>2.987</td>\n",
       "    </tr>\n",
       "    <tr>\n",
       "      <th>4</th>\n",
       "      <td>1.891052</td>\n",
       "      <td>3.946647</td>\n",
       "      <td>-1.988491</td>\n",
       "      <td>24.346368</td>\n",
       "      <td>-2.0000</td>\n",
       "      <td>2.972</td>\n",
       "    </tr>\n",
       "    <tr>\n",
       "      <th>...</th>\n",
       "      <td>...</td>\n",
       "      <td>...</td>\n",
       "      <td>...</td>\n",
       "      <td>...</td>\n",
       "      <td>...</td>\n",
       "      <td>...</td>\n",
       "    </tr>\n",
       "    <tr>\n",
       "      <th>50280</th>\n",
       "      <td>1.432455</td>\n",
       "      <td>3.336677</td>\n",
       "      <td>-0.002464</td>\n",
       "      <td>38.744012</td>\n",
       "      <td>0.0006</td>\n",
       "      <td>0.001</td>\n",
       "    </tr>\n",
       "    <tr>\n",
       "      <th>50281</th>\n",
       "      <td>1.432455</td>\n",
       "      <td>3.349952</td>\n",
       "      <td>-0.005358</td>\n",
       "      <td>38.462399</td>\n",
       "      <td>0.0006</td>\n",
       "      <td>0.001</td>\n",
       "    </tr>\n",
       "    <tr>\n",
       "      <th>50282</th>\n",
       "      <td>1.432455</td>\n",
       "      <td>3.362104</td>\n",
       "      <td>-0.003906</td>\n",
       "      <td>38.246805</td>\n",
       "      <td>0.0006</td>\n",
       "      <td>0.001</td>\n",
       "    </tr>\n",
       "    <tr>\n",
       "      <th>50283</th>\n",
       "      <td>1.432455</td>\n",
       "      <td>3.373357</td>\n",
       "      <td>-0.002763</td>\n",
       "      <td>37.970504</td>\n",
       "      <td>0.0006</td>\n",
       "      <td>0.001</td>\n",
       "    </tr>\n",
       "    <tr>\n",
       "      <th>50284</th>\n",
       "      <td>1.432455</td>\n",
       "      <td>3.383857</td>\n",
       "      <td>-0.000985</td>\n",
       "      <td>37.851602</td>\n",
       "      <td>0.0006</td>\n",
       "      <td>0.001</td>\n",
       "    </tr>\n",
       "  </tbody>\n",
       "</table>\n",
       "<p>50285 rows × 6 columns</p>\n",
       "</div>"
      ],
      "text/plain": [
       "       capacity  voltage_measured  current_measured  temperature_measured  \\\n",
       "0      1.891052          4.199360         -0.001866             23.937044   \n",
       "1      1.891052          4.199497         -0.002139             23.924074   \n",
       "2      1.891052          3.985606         -1.988778             24.004257   \n",
       "3      1.891052          3.963247         -1.992558             24.162868   \n",
       "4      1.891052          3.946647         -1.988491             24.346368   \n",
       "...         ...               ...               ...                   ...   \n",
       "50280  1.432455          3.336677         -0.002464             38.744012   \n",
       "50281  1.432455          3.349952         -0.005358             38.462399   \n",
       "50282  1.432455          3.362104         -0.003906             38.246805   \n",
       "50283  1.432455          3.373357         -0.002763             37.970504   \n",
       "50284  1.432455          3.383857         -0.000985             37.851602   \n",
       "\n",
       "       current_load  voltage_load  \n",
       "0           -0.0004         0.000  \n",
       "1           -0.0004         4.215  \n",
       "2           -2.0000         3.003  \n",
       "3           -2.0000         2.987  \n",
       "4           -2.0000         2.972  \n",
       "...             ...           ...  \n",
       "50280        0.0006         0.001  \n",
       "50281        0.0006         0.001  \n",
       "50282        0.0006         0.001  \n",
       "50283        0.0006         0.001  \n",
       "50284        0.0006         0.001  \n",
       "\n",
       "[50285 rows x 6 columns]"
      ]
     },
     "execution_count": 49,
     "metadata": {},
     "output_type": "execute_result"
    }
   ],
   "source": [
    "X"
   ]
  },
  {
   "cell_type": "code",
   "execution_count": 50,
   "metadata": {},
   "outputs": [
    {
     "data": {
      "text/plain": [
       "(50285, 6)"
      ]
     },
     "execution_count": 50,
     "metadata": {},
     "output_type": "execute_result"
    }
   ],
   "source": [
    "X.shape"
   ]
  },
  {
   "cell_type": "code",
   "execution_count": 51,
   "metadata": {},
   "outputs": [],
   "source": [
    "scaler = StandardScaler()"
   ]
  },
  {
   "cell_type": "code",
   "execution_count": 52,
   "metadata": {},
   "outputs": [],
   "source": [
    "X_std = scaler.fit_transform(X)"
   ]
  },
  {
   "cell_type": "code",
   "execution_count": 53,
   "metadata": {},
   "outputs": [],
   "source": [
    "X = pd.DataFrame(X_std, columns = X.columns)"
   ]
  },
  {
   "cell_type": "code",
   "execution_count": 54,
   "metadata": {},
   "outputs": [
    {
     "data": {
      "text/html": [
       "<div>\n",
       "<style scoped>\n",
       "    .dataframe tbody tr th:only-of-type {\n",
       "        vertical-align: middle;\n",
       "    }\n",
       "\n",
       "    .dataframe tbody tr th {\n",
       "        vertical-align: top;\n",
       "    }\n",
       "\n",
       "    .dataframe thead th {\n",
       "        text-align: right;\n",
       "    }\n",
       "</style>\n",
       "<table border=\"1\" class=\"dataframe\">\n",
       "  <thead>\n",
       "    <tr style=\"text-align: right;\">\n",
       "      <th></th>\n",
       "      <th>capacity</th>\n",
       "      <th>voltage_measured</th>\n",
       "      <th>current_measured</th>\n",
       "      <th>temperature_measured</th>\n",
       "      <th>current_load</th>\n",
       "      <th>voltage_load</th>\n",
       "    </tr>\n",
       "  </thead>\n",
       "  <tbody>\n",
       "    <tr>\n",
       "      <th>0</th>\n",
       "      <td>1.689961</td>\n",
       "      <td>2.542992</td>\n",
       "      <td>4.931631</td>\n",
       "      <td>-2.106916</td>\n",
       "      <td>-1.137012</td>\n",
       "      <td>-4.537552</td>\n",
       "    </tr>\n",
       "    <tr>\n",
       "      <th>1</th>\n",
       "      <td>1.689961</td>\n",
       "      <td>2.543505</td>\n",
       "      <td>4.930924</td>\n",
       "      <td>-2.110155</td>\n",
       "      <td>-1.137012</td>\n",
       "      <td>3.115305</td>\n",
       "    </tr>\n",
       "    <tr>\n",
       "      <th>2</th>\n",
       "      <td>1.689961</td>\n",
       "      <td>1.747372</td>\n",
       "      <td>-0.200963</td>\n",
       "      <td>-2.090132</td>\n",
       "      <td>-2.681482</td>\n",
       "      <td>0.914769</td>\n",
       "    </tr>\n",
       "    <tr>\n",
       "      <th>3</th>\n",
       "      <td>1.689961</td>\n",
       "      <td>1.664148</td>\n",
       "      <td>-0.210727</td>\n",
       "      <td>-2.050523</td>\n",
       "      <td>-2.681482</td>\n",
       "      <td>0.885719</td>\n",
       "    </tr>\n",
       "    <tr>\n",
       "      <th>4</th>\n",
       "      <td>1.689961</td>\n",
       "      <td>1.602358</td>\n",
       "      <td>-0.200222</td>\n",
       "      <td>-2.004699</td>\n",
       "      <td>-2.681482</td>\n",
       "      <td>0.858484</td>\n",
       "    </tr>\n",
       "    <tr>\n",
       "      <th>...</th>\n",
       "      <td>...</td>\n",
       "      <td>...</td>\n",
       "      <td>...</td>\n",
       "      <td>...</td>\n",
       "      <td>...</td>\n",
       "      <td>...</td>\n",
       "    </tr>\n",
       "    <tr>\n",
       "      <th>50280</th>\n",
       "      <td>-1.312317</td>\n",
       "      <td>-0.668038</td>\n",
       "      <td>4.930086</td>\n",
       "      <td>1.590715</td>\n",
       "      <td>-1.136240</td>\n",
       "      <td>-4.535736</td>\n",
       "    </tr>\n",
       "    <tr>\n",
       "      <th>50281</th>\n",
       "      <td>-1.312317</td>\n",
       "      <td>-0.618625</td>\n",
       "      <td>4.922609</td>\n",
       "      <td>1.520390</td>\n",
       "      <td>-1.136240</td>\n",
       "      <td>-4.535736</td>\n",
       "    </tr>\n",
       "    <tr>\n",
       "      <th>50282</th>\n",
       "      <td>-1.312317</td>\n",
       "      <td>-0.573394</td>\n",
       "      <td>4.926361</td>\n",
       "      <td>1.466552</td>\n",
       "      <td>-1.136240</td>\n",
       "      <td>-4.535736</td>\n",
       "    </tr>\n",
       "    <tr>\n",
       "      <th>50283</th>\n",
       "      <td>-1.312317</td>\n",
       "      <td>-0.531507</td>\n",
       "      <td>4.929314</td>\n",
       "      <td>1.397553</td>\n",
       "      <td>-1.136240</td>\n",
       "      <td>-4.535736</td>\n",
       "    </tr>\n",
       "    <tr>\n",
       "      <th>50284</th>\n",
       "      <td>-1.312317</td>\n",
       "      <td>-0.492427</td>\n",
       "      <td>4.933908</td>\n",
       "      <td>1.367861</td>\n",
       "      <td>-1.136240</td>\n",
       "      <td>-4.535736</td>\n",
       "    </tr>\n",
       "  </tbody>\n",
       "</table>\n",
       "<p>50285 rows × 6 columns</p>\n",
       "</div>"
      ],
      "text/plain": [
       "       capacity  voltage_measured  current_measured  temperature_measured  \\\n",
       "0      1.689961          2.542992          4.931631             -2.106916   \n",
       "1      1.689961          2.543505          4.930924             -2.110155   \n",
       "2      1.689961          1.747372         -0.200963             -2.090132   \n",
       "3      1.689961          1.664148         -0.210727             -2.050523   \n",
       "4      1.689961          1.602358         -0.200222             -2.004699   \n",
       "...         ...               ...               ...                   ...   \n",
       "50280 -1.312317         -0.668038          4.930086              1.590715   \n",
       "50281 -1.312317         -0.618625          4.922609              1.520390   \n",
       "50282 -1.312317         -0.573394          4.926361              1.466552   \n",
       "50283 -1.312317         -0.531507          4.929314              1.397553   \n",
       "50284 -1.312317         -0.492427          4.933908              1.367861   \n",
       "\n",
       "       current_load  voltage_load  \n",
       "0         -1.137012     -4.537552  \n",
       "1         -1.137012      3.115305  \n",
       "2         -2.681482      0.914769  \n",
       "3         -2.681482      0.885719  \n",
       "4         -2.681482      0.858484  \n",
       "...             ...           ...  \n",
       "50280     -1.136240     -4.535736  \n",
       "50281     -1.136240     -4.535736  \n",
       "50282     -1.136240     -4.535736  \n",
       "50283     -1.136240     -4.535736  \n",
       "50284     -1.136240     -4.535736  \n",
       "\n",
       "[50285 rows x 6 columns]"
      ]
     },
     "execution_count": 54,
     "metadata": {},
     "output_type": "execute_result"
    }
   ],
   "source": [
    "X"
   ]
  },
  {
   "cell_type": "code",
   "execution_count": 55,
   "metadata": {},
   "outputs": [],
   "source": [
    "X_train, X_test, y_train, y_test = train_test_split(X_std, soh, test_size=0.2, random_state=2301)"
   ]
  },
  {
   "cell_type": "code",
   "execution_count": 56,
   "metadata": {},
   "outputs": [
    {
     "data": {
      "text/plain": [
       "((40228, 6), (10057, 6), (40228, 1), (10057, 1))"
      ]
     },
     "execution_count": 56,
     "metadata": {},
     "output_type": "execute_result"
    }
   ],
   "source": [
    "X_train.shape, X_test.shape, y_train.shape, y_test.shape"
   ]
  },
  {
   "cell_type": "code",
   "execution_count": 57,
   "metadata": {},
   "outputs": [],
   "source": [
    "pipeline = Pipeline(steps=[('impute', SimpleImputer(strategy='mean'))])"
   ]
  },
  {
   "cell_type": "code",
   "execution_count": 58,
   "metadata": {},
   "outputs": [],
   "source": [
    "def prepare_model(algorithm, X_train, y_train): \n",
    "    model = Pipeline(steps=[('preprocessing', pipeline),('algorithm', algorithm)])\n",
    "    model.fit(X_train, y_train)\n",
    "    return model"
   ]
  },
  {
   "cell_type": "code",
   "execution_count": 59,
   "metadata": {},
   "outputs": [],
   "source": [
    "algorithms = [RandomForestRegressor(), AdaBoostRegressor(), GradientBoostingRegressor(), \n",
    "              BaggingRegressor(), SVR(), DecisionTreeRegressor(), ExtraTreeRegressor(), \n",
    "              LinearRegression(), SGDRegressor(), KNeighborsRegressor()]"
   ]
  },
  {
   "cell_type": "code",
   "execution_count": 60,
   "metadata": {},
   "outputs": [],
   "source": [
    "names = []\n",
    "times = []\n",
    "mse = []\n",
    "rmse = []"
   ]
  },
  {
   "cell_type": "code",
   "execution_count": 61,
   "metadata": {},
   "outputs": [
    {
     "name": "stderr",
     "output_type": "stream",
     "text": [
      "s:\\anacondaprogramdata\\anaconda3\\lib\\site-packages\\sklearn\\pipeline.py:394: DataConversionWarning: A column-vector y was passed when a 1d array was expected. Please change the shape of y to (n_samples,), for example using ravel().\n",
      "  self._final_estimator.fit(Xt, y, **fit_params_last_step)\n",
      "s:\\anacondaprogramdata\\anaconda3\\lib\\site-packages\\sklearn\\utils\\validation.py:993: DataConversionWarning: A column-vector y was passed when a 1d array was expected. Please change the shape of y to (n_samples, ), for example using ravel().\n",
      "  y = column_or_1d(y, warn=True)\n",
      "s:\\anacondaprogramdata\\anaconda3\\lib\\site-packages\\sklearn\\ensemble\\_gb.py:494: DataConversionWarning: A column-vector y was passed when a 1d array was expected. Please change the shape of y to (n_samples, ), for example using ravel().\n",
      "  y = column_or_1d(y, warn=True)\n",
      "s:\\anacondaprogramdata\\anaconda3\\lib\\site-packages\\sklearn\\ensemble\\_bagging.py:429: DataConversionWarning: A column-vector y was passed when a 1d array was expected. Please change the shape of y to (n_samples, ), for example using ravel().\n",
      "  return column_or_1d(y, warn=True)\n",
      "s:\\anacondaprogramdata\\anaconda3\\lib\\site-packages\\sklearn\\utils\\validation.py:993: DataConversionWarning: A column-vector y was passed when a 1d array was expected. Please change the shape of y to (n_samples, ), for example using ravel().\n",
      "  y = column_or_1d(y, warn=True)\n",
      "s:\\anacondaprogramdata\\anaconda3\\lib\\site-packages\\sklearn\\utils\\validation.py:993: DataConversionWarning: A column-vector y was passed when a 1d array was expected. Please change the shape of y to (n_samples, ), for example using ravel().\n",
      "  y = column_or_1d(y, warn=True)\n"
     ]
    }
   ],
   "source": [
    "for algorithm in algorithms:\n",
    "    name = type(algorithm).__name__\n",
    "    names.append(name)\n",
    "    start_time = time.time()\n",
    "    model = prepare_model(algorithm, X_train, y_train)\n",
    "    pred = model.predict(X_test)\n",
    "    end_time = time.time()\n",
    "    times.append(end_time - start_time)\n",
    "    mse.append(mean_squared_error(y_test, pred))\n",
    "    rmse.append(np.sqrt(mean_squared_error(y_test, pred)))"
   ]
  },
  {
   "cell_type": "code",
   "execution_count": 62,
   "metadata": {},
   "outputs": [
    {
     "name": "stdout",
     "output_type": "stream",
     "text": [
      "Regression Results in Algorithms\n"
     ]
    },
    {
     "data": {
      "text/html": [
       "<div>\n",
       "<style scoped>\n",
       "    .dataframe tbody tr th:only-of-type {\n",
       "        vertical-align: middle;\n",
       "    }\n",
       "\n",
       "    .dataframe tbody tr th {\n",
       "        vertical-align: top;\n",
       "    }\n",
       "\n",
       "    .dataframe thead th {\n",
       "        text-align: right;\n",
       "    }\n",
       "</style>\n",
       "<table border=\"1\" class=\"dataframe\">\n",
       "  <thead>\n",
       "    <tr style=\"text-align: right;\">\n",
       "      <th></th>\n",
       "      <th>Algorithm</th>\n",
       "      <th>MSE</th>\n",
       "      <th>RMSE</th>\n",
       "      <th>Time</th>\n",
       "    </tr>\n",
       "  </thead>\n",
       "  <tbody>\n",
       "    <tr>\n",
       "      <th>7</th>\n",
       "      <td>LinearRegression</td>\n",
       "      <td>3.730142e-32</td>\n",
       "      <td>1.931357e-16</td>\n",
       "      <td>0.103985</td>\n",
       "    </tr>\n",
       "    <tr>\n",
       "      <th>5</th>\n",
       "      <td>DecisionTreeRegressor</td>\n",
       "      <td>5.464334e-30</td>\n",
       "      <td>2.337592e-15</td>\n",
       "      <td>0.821001</td>\n",
       "    </tr>\n",
       "    <tr>\n",
       "      <th>6</th>\n",
       "      <td>ExtraTreeRegressor</td>\n",
       "      <td>6.028041e-30</td>\n",
       "      <td>2.455207e-15</td>\n",
       "      <td>0.172003</td>\n",
       "    </tr>\n",
       "    <tr>\n",
       "      <th>0</th>\n",
       "      <td>RandomForestRegressor</td>\n",
       "      <td>7.020456e-12</td>\n",
       "      <td>2.649614e-06</td>\n",
       "      <td>31.278843</td>\n",
       "    </tr>\n",
       "    <tr>\n",
       "      <th>3</th>\n",
       "      <td>BaggingRegressor</td>\n",
       "      <td>1.136833e-11</td>\n",
       "      <td>3.371695e-06</td>\n",
       "      <td>4.512003</td>\n",
       "    </tr>\n",
       "    <tr>\n",
       "      <th>8</th>\n",
       "      <td>SGDRegressor</td>\n",
       "      <td>9.388068e-11</td>\n",
       "      <td>9.689204e-06</td>\n",
       "      <td>0.271999</td>\n",
       "    </tr>\n",
       "    <tr>\n",
       "      <th>2</th>\n",
       "      <td>GradientBoostingRegressor</td>\n",
       "      <td>1.570172e-08</td>\n",
       "      <td>1.253065e-04</td>\n",
       "      <td>20.947731</td>\n",
       "    </tr>\n",
       "    <tr>\n",
       "      <th>9</th>\n",
       "      <td>KNeighborsRegressor</td>\n",
       "      <td>1.085739e-06</td>\n",
       "      <td>1.041988e-03</td>\n",
       "      <td>1.992521</td>\n",
       "    </tr>\n",
       "    <tr>\n",
       "      <th>1</th>\n",
       "      <td>AdaBoostRegressor</td>\n",
       "      <td>4.244260e-05</td>\n",
       "      <td>6.514798e-03</td>\n",
       "      <td>4.469796</td>\n",
       "    </tr>\n",
       "    <tr>\n",
       "      <th>4</th>\n",
       "      <td>SVR</td>\n",
       "      <td>3.682221e-03</td>\n",
       "      <td>6.068131e-02</td>\n",
       "      <td>0.689000</td>\n",
       "    </tr>\n",
       "  </tbody>\n",
       "</table>\n",
       "</div>"
      ],
      "text/plain": [
       "                   Algorithm           MSE          RMSE       Time\n",
       "7           LinearRegression  3.730142e-32  1.931357e-16   0.103985\n",
       "5      DecisionTreeRegressor  5.464334e-30  2.337592e-15   0.821001\n",
       "6         ExtraTreeRegressor  6.028041e-30  2.455207e-15   0.172003\n",
       "0      RandomForestRegressor  7.020456e-12  2.649614e-06  31.278843\n",
       "3           BaggingRegressor  1.136833e-11  3.371695e-06   4.512003\n",
       "8               SGDRegressor  9.388068e-11  9.689204e-06   0.271999\n",
       "2  GradientBoostingRegressor  1.570172e-08  1.253065e-04  20.947731\n",
       "9        KNeighborsRegressor  1.085739e-06  1.041988e-03   1.992521\n",
       "1          AdaBoostRegressor  4.244260e-05  6.514798e-03   4.469796\n",
       "4                        SVR  3.682221e-03  6.068131e-02   0.689000"
      ]
     },
     "execution_count": 62,
     "metadata": {},
     "output_type": "execute_result"
    }
   ],
   "source": [
    "print('Regression Results in Algorithms') \n",
    "results_dict = {'Algorithm': names, 'MSE': mse, 'RMSE': rmse, 'Time': times}\n",
    "pd.DataFrame(results_dict).sort_values(by='RMSE', ascending=1)"
   ]
  },
  {
   "cell_type": "code",
   "execution_count": 63,
   "metadata": {},
   "outputs": [
    {
     "name": "stderr",
     "output_type": "stream",
     "text": [
      "C:\\Users\\kanna\\AppData\\Local\\Temp\\ipykernel_17140\\2433410063.py:3: DataConversionWarning: A column-vector y was passed when a 1d array was expected. Please change the shape of y to (n_samples,), for example using ravel().\n",
      "  rfr.fit(X_train, y_train)\n"
     ]
    },
    {
     "name": "stdout",
     "output_type": "stream",
     "text": [
      "0.999999999707509\n",
      "0.9999999989134766\n",
      "2.6763758909390223e-06\n"
     ]
    }
   ],
   "source": [
    "rfr = RandomForestRegressor(random_state=2301, n_estimators=100)\n",
    "\n",
    "rfr.fit(X_train, y_train)\n",
    "print(rfr.score(X_train, y_train))\n",
    "print(rfr.score(X_test, y_test))\n",
    "\n",
    "rfr_pred = rfr.predict(X_test)\n",
    "rfr_rmse = np.sqrt(mean_squared_error(y_test, rfr_pred))\n",
    "print(rfr_rmse)"
   ]
  },
  {
   "cell_type": "code",
   "execution_count": 64,
   "metadata": {},
   "outputs": [
    {
     "data": {
      "text/plain": [
       "<AxesSubplot:ylabel='SoH'>"
      ]
     },
     "execution_count": 64,
     "metadata": {},
     "output_type": "execute_result"
    },
    {
     "data": {
      "image/png": "[encoded data removed]",
      "text/plain": [
       "<Figure size 432x288 with 1 Axes>"
      ]
     },
     "metadata": {},
     "output_type": "display_data"
    }
   ],
   "source": [
    "sns.regplot(x = rfr_pred, y = y_test)"
   ]
  },
  {
   "cell_type": "code",
   "execution_count": null,
   "metadata": {},
   "outputs": [],
   "source": []
  },
  {
   "cell_type": "code",
   "execution_count": 68,
   "metadata": {},
   "outputs": [],
   "source": [
    "train_dataset = dataset[attribs]"
   ]
  },
  {
   "cell_type": "code",
   "execution_count": 69,
   "metadata": {},
   "outputs": [],
   "source": [
    "sc = MinMaxScaler(feature_range=(0,1))"
   ]
  },
  {
   "cell_type": "code",
   "execution_count": 70,
   "metadata": {},
   "outputs": [],
   "source": [
    "train_dataset = sc.fit_transform(train_dataset)"
   ]
  },
  {
   "cell_type": "code",
   "execution_count": 71,
   "id": "f20bd3ad",
   "metadata": {
    "execution": {
     "iopub.execute_input": "2021-07-22T04:46:21.692739Z",
     "iopub.status.busy": "2021-07-22T04:46:21.682242Z",
     "iopub.status.idle": "2021-07-22T04:46:22.268522Z",
     "shell.execute_reply": "2021-07-22T04:46:22.267883Z",
     "shell.execute_reply.started": "2021-07-21T14:56:06.552479Z"
    },
    "papermill": {
     "duration": 0.637334,
     "end_time": "2021-07-22T04:46:22.268685",
     "exception": false,
     "start_time": "2021-07-22T04:46:21.631351",
     "status": "completed"
    },
    "tags": []
   },
   "outputs": [
    {
     "name": "stdout",
     "output_type": "stream",
     "text": [
      "(50285, 6)\n",
      "(50285, 1)\n"
     ]
    }
   ],
   "source": [
    "print(train_dataset.shape)\n",
    "print(soh.shape)"
   ]
  },
  {
   "cell_type": "code",
   "execution_count": 72,
   "id": "bd824395",
   "metadata": {
    "execution": {
     "iopub.execute_input": "2021-07-22T04:46:22.401756Z",
     "iopub.status.busy": "2021-07-22T04:46:22.400854Z",
     "iopub.status.idle": "2021-07-22T04:46:28.276559Z",
     "shell.execute_reply": "2021-07-22T04:46:28.275812Z",
     "shell.execute_reply.started": "2021-07-21T14:56:07.159332Z"
    },
    "papermill": {
     "duration": 5.912746,
     "end_time": "2021-07-22T04:46:28.276711",
     "exception": false,
     "start_time": "2021-07-22T04:46:22.363965",
     "status": "completed"
    },
    "tags": []
   },
   "outputs": [],
   "source": [
    "def create_model():\n",
    "    model = Sequential()\n",
    "    model.add(Dense(8, activation='relu', input_dim=train_dataset.shape[1]))\n",
    "    model.add(Dense(8, activation='relu'))\n",
    "    model.add(Dense(8, activation='relu'))\n",
    "    model.add(Dropout(rate=0.25))\n",
    "    model.add(Dense(1))\n",
    "    return model"
   ]
  },
  {
   "cell_type": "code",
   "execution_count": 73,
   "metadata": {},
   "outputs": [],
   "source": [
    "model = create_model()"
   ]
  },
  {
   "cell_type": "code",
   "execution_count": 74,
   "metadata": {},
   "outputs": [
    {
     "name": "stdout",
     "output_type": "stream",
     "text": [
      "Model: \"sequential\"\n",
      "_________________________________________________________________\n",
      " Layer (type)                Output Shape              Param #   \n",
      "=================================================================\n",
      " dense (Dense)               (None, 8)                 56        \n",
      "                                                                 \n",
      " dense_1 (Dense)             (None, 8)                 72        \n",
      "                                                                 \n",
      " dense_2 (Dense)             (None, 8)                 72        \n",
      "                                                                 \n",
      " dropout (Dropout)           (None, 8)                 0         \n",
      "                                                                 \n",
      " dense_3 (Dense)             (None, 1)                 9         \n",
      "                                                                 \n",
      "=================================================================\n",
      "Total params: 209\n",
      "Trainable params: 209\n",
      "Non-trainable params: 0\n",
      "_________________________________________________________________\n"
     ]
    }
   ],
   "source": [
    "model.summary()"
   ]
  },
  {
   "cell_type": "code",
   "execution_count": 75,
   "id": "4c47442d",
   "metadata": {
    "execution": {
     "iopub.execute_input": "2021-07-22T04:46:28.348113Z",
     "iopub.status.busy": "2021-07-22T04:46:28.347374Z",
     "iopub.status.idle": "2021-07-22T04:46:28.477923Z",
     "shell.execute_reply": "2021-07-22T04:46:28.478471Z",
     "shell.execute_reply.started": "2021-07-21T14:56:13.084599Z"
    },
    "papermill": {
     "duration": 0.170098,
     "end_time": "2021-07-22T04:46:28.478675",
     "exception": false,
     "start_time": "2021-07-22T04:46:28.308577",
     "status": "completed"
    },
    "tags": []
   },
   "outputs": [],
   "source": [
    "model.compile(optimizer=Adam(beta_1=0.9, beta_2=0.999, epsilon=1e-08), loss='mean_absolute_error')"
   ]
  },
  {
   "cell_type": "code",
   "execution_count": 76,
   "id": "442a36cd",
   "metadata": {
    "_kg_hide-input": true,
    "_kg_hide-output": true,
    "execution": {
     "iopub.execute_input": "2021-07-22T04:46:28.613768Z",
     "iopub.status.busy": "2021-07-22T04:46:28.613147Z",
     "iopub.status.idle": "2021-07-22T04:48:12.679705Z",
     "shell.execute_reply": "2021-07-22T04:48:12.679066Z",
     "shell.execute_reply.started": "2021-07-21T14:56:13.211493Z"
    },
    "papermill": {
     "duration": 104.101427,
     "end_time": "2021-07-22T04:48:12.679866",
     "exception": false,
     "start_time": "2021-07-22T04:46:28.578439",
     "status": "completed"
    },
    "tags": []
   },
   "outputs": [
    {
     "name": "stdout",
     "output_type": "stream",
     "text": [
      "Epoch 1/50\n",
      "2012/2012 [==============================] - 12s 5ms/step - loss: 0.1162\n",
      "Epoch 2/50\n",
      "2012/2012 [==============================] - 9s 5ms/step - loss: 0.0205\n",
      "Epoch 3/50\n",
      "2012/2012 [==============================] - 8s 4ms/step - loss: 0.0193\n",
      "Epoch 4/50\n",
      "2012/2012 [==============================] - 8s 4ms/step - loss: 0.0190\n",
      "Epoch 5/50\n",
      "2012/2012 [==============================] - 8s 4ms/step - loss: 0.0173\n",
      "Epoch 6/50\n",
      "2012/2012 [==============================] - 7s 4ms/step - loss: 0.0171\n",
      "Epoch 7/50\n",
      "2012/2012 [==============================] - 7s 4ms/step - loss: 0.0168\n",
      "Epoch 8/50\n",
      "2012/2012 [==============================] - 7s 3ms/step - loss: 0.0168\n",
      "Epoch 9/50\n",
      "2012/2012 [==============================] - 7s 4ms/step - loss: 0.0167\n",
      "Epoch 10/50\n",
      "2012/2012 [==============================] - 8s 4ms/step - loss: 0.0168\n",
      "Epoch 11/50\n",
      "2012/2012 [==============================] - 7s 4ms/step - loss: 0.0166\n",
      "Epoch 12/50\n",
      "2012/2012 [==============================] - 7s 4ms/step - loss: 0.0165\n",
      "Epoch 13/50\n",
      "2012/2012 [==============================] - 8s 4ms/step - loss: 0.0166\n",
      "Epoch 14/50\n",
      "2012/2012 [==============================] - 8s 4ms/step - loss: 0.0164\n",
      "Epoch 15/50\n",
      "2012/2012 [==============================] - 7s 4ms/step - loss: 0.0163\n",
      "Epoch 16/50\n",
      "2012/2012 [==============================] - 8s 4ms/step - loss: 0.0163\n",
      "Epoch 17/50\n",
      "2012/2012 [==============================] - 8s 4ms/step - loss: 0.0164\n",
      "Epoch 18/50\n",
      "2012/2012 [==============================] - 9s 4ms/step - loss: 0.0164\n",
      "Epoch 19/50\n",
      "2012/2012 [==============================] - 8s 4ms/step - loss: 0.0164\n",
      "Epoch 20/50\n",
      "2012/2012 [==============================] - 8s 4ms/step - loss: 0.0162\n",
      "Epoch 21/50\n",
      "2012/2012 [==============================] - 8s 4ms/step - loss: 0.0163\n",
      "Epoch 22/50\n",
      "2012/2012 [==============================] - 7s 4ms/step - loss: 0.0163\n",
      "Epoch 23/50\n",
      "2012/2012 [==============================] - 10s 5ms/step - loss: 0.0163\n",
      "Epoch 24/50\n",
      "2012/2012 [==============================] - 10s 5ms/step - loss: 0.0165\n",
      "Epoch 25/50\n",
      "2012/2012 [==============================] - 10s 5ms/step - loss: 0.0164\n",
      "Epoch 26/50\n",
      "2012/2012 [==============================] - 9s 4ms/step - loss: 0.0163\n",
      "Epoch 27/50\n",
      "2012/2012 [==============================] - 9s 4ms/step - loss: 0.0165\n",
      "Epoch 28/50\n",
      "2012/2012 [==============================] - 9s 4ms/step - loss: 0.0163\n",
      "Epoch 29/50\n",
      "2012/2012 [==============================] - 9s 4ms/step - loss: 0.0164\n",
      "Epoch 30/50\n",
      "2012/2012 [==============================] - 8s 4ms/step - loss: 0.0164\n",
      "Epoch 31/50\n",
      "2012/2012 [==============================] - 8s 4ms/step - loss: 0.0163\n",
      "Epoch 32/50\n",
      "2012/2012 [==============================] - 9s 5ms/step - loss: 0.0162\n",
      "Epoch 33/50\n",
      "2012/2012 [==============================] - 9s 4ms/step - loss: 0.0163\n",
      "Epoch 34/50\n",
      "2012/2012 [==============================] - 9s 5ms/step - loss: 0.0164\n",
      "Epoch 35/50\n",
      "2012/2012 [==============================] - 8s 4ms/step - loss: 0.0163\n",
      "Epoch 36/50\n",
      "2012/2012 [==============================] - 9s 4ms/step - loss: 0.0160\n",
      "Epoch 37/50\n",
      "2012/2012 [==============================] - 9s 4ms/step - loss: 0.0163\n",
      "Epoch 38/50\n",
      "2012/2012 [==============================] - 4s 2ms/step - loss: 0.0164\n",
      "Epoch 39/50\n",
      "2012/2012 [==============================] - 8s 4ms/step - loss: 0.0162\n",
      "Epoch 40/50\n",
      "2012/2012 [==============================] - 10s 5ms/step - loss: 0.0164\n",
      "Epoch 41/50\n",
      "2012/2012 [==============================] - 6s 3ms/step - loss: 0.0161\n",
      "Epoch 42/50\n",
      "2012/2012 [==============================] - 3s 2ms/step - loss: 0.0162\n",
      "Epoch 43/50\n",
      "2012/2012 [==============================] - 4s 2ms/step - loss: 0.0161\n",
      "Epoch 44/50\n",
      "2012/2012 [==============================] - 4s 2ms/step - loss: 0.0164\n",
      "Epoch 45/50\n",
      "2012/2012 [==============================] - 4s 2ms/step - loss: 0.0162\n",
      "Epoch 46/50\n",
      "2012/2012 [==============================] - 3s 2ms/step - loss: 0.0161\n",
      "Epoch 47/50\n",
      "2012/2012 [==============================] - 3s 2ms/step - loss: 0.0161\n",
      "Epoch 48/50\n",
      "2012/2012 [==============================] - 4s 2ms/step - loss: 0.0163\n",
      "Epoch 49/50\n",
      "2012/2012 [==============================] - 4s 2ms/step - loss: 0.0161\n",
      "Epoch 50/50\n",
      "2012/2012 [==============================] - 4s 2ms/step - loss: 0.0162\n"
     ]
    },
    {
     "data": {
      "text/plain": [
       "<keras.callbacks.History at 0x1a39706ec40>"
      ]
     },
     "execution_count": 76,
     "metadata": {},
     "output_type": "execute_result"
    }
   ],
   "source": [
    "model.fit(x=train_dataset, y=soh.to_numpy(), batch_size=25, epochs=50)"
   ]
  },
  {
   "cell_type": "code",
   "execution_count": 77,
   "metadata": {},
   "outputs": [
    {
     "name": "stdout",
     "output_type": "stream",
     "text": [
      "Total data in dataset:  616\n",
      "[1, 24, datetime.datetime(2008, 4, 2, 15, 25, 41), 2.035337591005598, 4.179799607333447, -0.0023663271409738672, 24.277567510331888, -0.0006, 0.0, 0.0]\n"
     ]
    }
   ],
   "source": [
    "dataset_val, capacity_val = load_data('B0006')"
   ]
  },
  {
   "cell_type": "code",
   "execution_count": 78,
   "metadata": {},
   "outputs": [],
   "source": [
    "attrib=['cycle', 'datetime', 'capacity']"
   ]
  },
  {
   "cell_type": "code",
   "execution_count": 79,
   "metadata": {},
   "outputs": [],
   "source": [
    "dis_ele = capacity_val[attrib]"
   ]
  },
  {
   "cell_type": "code",
   "execution_count": 80,
   "metadata": {},
   "outputs": [],
   "source": [
    "C = dis_ele['capacity'][0]"
   ]
  },
  {
   "cell_type": "code",
   "execution_count": 81,
   "metadata": {},
   "outputs": [],
   "source": [
    "for i in range(len(dis_ele)):\n",
    "    dis_ele['SoH']=(dis_ele['capacity']) / C"
   ]
  },
  {
   "cell_type": "code",
   "execution_count": 82,
   "id": "0b111770",
   "metadata": {
    "execution": {
     "iopub.execute_input": "2021-07-22T04:48:15.421689Z",
     "iopub.status.busy": "2021-07-22T04:48:15.420667Z",
     "iopub.status.idle": "2021-07-22T04:48:16.642636Z",
     "shell.execute_reply": "2021-07-22T04:48:16.642067Z",
     "shell.execute_reply.started": "2021-07-21T14:57:54.790764Z"
    },
    "papermill": {
     "duration": 1.901195,
     "end_time": "2021-07-22T04:48:16.642783",
     "exception": false,
     "start_time": "2021-07-22T04:48:14.741588",
     "status": "completed"
    },
    "tags": []
   },
   "outputs": [
    {
     "name": "stdout",
     "output_type": "stream",
     "text": [
      "   cycle  ambient_temperature            datetime  capacity  voltage_measured  \\\n",
      "0      1                   24 2008-04-02 15:25:41  2.035338          4.179800   \n",
      "1      1                   24 2008-04-02 15:25:41  2.035338          4.179823   \n",
      "2      1                   24 2008-04-02 15:25:41  2.035338          3.966528   \n",
      "3      1                   24 2008-04-02 15:25:41  2.035338          3.945886   \n",
      "4      1                   24 2008-04-02 15:25:41  2.035338          3.930354   \n",
      "\n",
      "   current_measured  temperature_measured  current_load  voltage_load    time  \n",
      "0         -0.002366             24.277568       -0.0006         0.000   0.000  \n",
      "1          0.000434             24.277073       -0.0006         4.195  16.781  \n",
      "2         -2.014242             24.366226       -1.9990         3.070  35.703  \n",
      "3         -2.008730             24.515123       -1.9990         3.045  53.781  \n",
      "4         -2.013381             24.676053       -1.9990         3.026  71.922  \n",
      "   cycle            datetime  capacity       SoH\n",
      "0      1 2008-04-02 15:25:41  2.035338  1.000000\n",
      "1      2 2008-04-02 19:43:48  2.025140  0.994990\n",
      "2      3 2008-04-03 00:01:06  2.013326  0.989185\n",
      "3      4 2008-04-03 04:16:37  2.013285  0.989165\n",
      "4      5 2008-04-03 08:33:25  2.000528  0.982898\n"
     ]
    }
   ],
   "source": [
    "print(dataset_val.head(5))\n",
    "print(dis_ele.head(5))"
   ]
  },
  {
   "cell_type": "code",
   "execution_count": 85,
   "metadata": {},
   "outputs": [],
   "source": [
    "attrib=['capacity', 'voltage_measured', 'current_measured',\n",
    "        'temperature_measured', 'current_load', 'voltage_load']"
   ]
  },
  {
   "cell_type": "code",
   "execution_count": 86,
   "metadata": {},
   "outputs": [
    {
     "name": "stdout",
     "output_type": "stream",
     "text": [
      "1572/1572 [==============================] - 6s 3ms/step\n"
     ]
    }
   ],
   "source": [
    "soh_pred = model.predict(sc.fit_transform(dataset_val[attrib]))"
   ]
  },
  {
   "cell_type": "code",
   "execution_count": 87,
   "metadata": {},
   "outputs": [
    {
     "name": "stdout",
     "output_type": "stream",
     "text": [
      "(50285, 1)\n"
     ]
    }
   ],
   "source": [
    "print(soh_pred.shape)"
   ]
  },
  {
   "cell_type": "code",
   "execution_count": 88,
   "metadata": {},
   "outputs": [],
   "source": [
    "C = dataset_val['capacity'][0]"
   ]
  },
  {
   "cell_type": "code",
   "execution_count": 89,
   "metadata": {},
   "outputs": [],
   "source": [
    "soh = []"
   ]
  },
  {
   "cell_type": "code",
   "execution_count": 90,
   "metadata": {},
   "outputs": [],
   "source": [
    "for i in range(len(dataset_val)):\n",
    "    soh.append(dataset_val['capacity'][i] / C)"
   ]
  },
  {
   "cell_type": "code",
   "execution_count": 91,
   "metadata": {},
   "outputs": [],
   "source": [
    "new_soh = dataset_val.loc[(dataset_val['cycle'] >= 1), ['cycle']]"
   ]
  },
  {
   "cell_type": "code",
   "execution_count": 92,
   "metadata": {},
   "outputs": [],
   "source": [
    "new_soh['SoH'] =  soh"
   ]
  },
  {
   "cell_type": "code",
   "execution_count": 93,
   "metadata": {},
   "outputs": [],
   "source": [
    "new_soh['NewSoH'] = soh_pred"
   ]
  },
  {
   "cell_type": "code",
   "execution_count": 94,
   "metadata": {},
   "outputs": [],
   "source": [
    "new_soh = new_soh.groupby(['cycle']).mean().reset_index()"
   ]
  },
  {
   "cell_type": "code",
   "execution_count": 95,
   "metadata": {},
   "outputs": [
    {
     "data": {
      "text/html": [
       "<div>\n",
       "<style scoped>\n",
       "    .dataframe tbody tr th:only-of-type {\n",
       "        vertical-align: middle;\n",
       "    }\n",
       "\n",
       "    .dataframe tbody tr th {\n",
       "        vertical-align: top;\n",
       "    }\n",
       "\n",
       "    .dataframe thead th {\n",
       "        text-align: right;\n",
       "    }\n",
       "</style>\n",
       "<table border=\"1\" class=\"dataframe\">\n",
       "  <thead>\n",
       "    <tr style=\"text-align: right;\">\n",
       "      <th></th>\n",
       "      <th>cycle</th>\n",
       "      <th>SoH</th>\n",
       "      <th>NewSoH</th>\n",
       "    </tr>\n",
       "  </thead>\n",
       "  <tbody>\n",
       "    <tr>\n",
       "      <th>22</th>\n",
       "      <td>23</td>\n",
       "      <td>0.945419</td>\n",
       "      <td>0.967383</td>\n",
       "    </tr>\n",
       "    <tr>\n",
       "      <th>141</th>\n",
       "      <td>142</td>\n",
       "      <td>0.628499</td>\n",
       "      <td>0.794344</td>\n",
       "    </tr>\n",
       "    <tr>\n",
       "      <th>42</th>\n",
       "      <td>43</td>\n",
       "      <td>0.862106</td>\n",
       "      <td>0.918883</td>\n",
       "    </tr>\n",
       "    <tr>\n",
       "      <th>115</th>\n",
       "      <td>116</td>\n",
       "      <td>0.672251</td>\n",
       "      <td>0.814166</td>\n",
       "    </tr>\n",
       "    <tr>\n",
       "      <th>150</th>\n",
       "      <td>151</td>\n",
       "      <td>0.633706</td>\n",
       "      <td>0.796709</td>\n",
       "    </tr>\n",
       "    <tr>\n",
       "      <th>104</th>\n",
       "      <td>105</td>\n",
       "      <td>0.703351</td>\n",
       "      <td>0.828243</td>\n",
       "    </tr>\n",
       "    <tr>\n",
       "      <th>68</th>\n",
       "      <td>69</td>\n",
       "      <td>0.756962</td>\n",
       "      <td>0.854997</td>\n",
       "    </tr>\n",
       "    <tr>\n",
       "      <th>12</th>\n",
       "      <td>13</td>\n",
       "      <td>0.944944</td>\n",
       "      <td>0.966759</td>\n",
       "    </tr>\n",
       "    <tr>\n",
       "      <th>50</th>\n",
       "      <td>51</td>\n",
       "      <td>0.857224</td>\n",
       "      <td>0.914599</td>\n",
       "    </tr>\n",
       "    <tr>\n",
       "      <th>48</th>\n",
       "      <td>49</td>\n",
       "      <td>0.888368</td>\n",
       "      <td>0.932829</td>\n",
       "    </tr>\n",
       "  </tbody>\n",
       "</table>\n",
       "</div>"
      ],
      "text/plain": [
       "     cycle       SoH    NewSoH\n",
       "22      23  0.945419  0.967383\n",
       "141    142  0.628499  0.794344\n",
       "42      43  0.862106  0.918883\n",
       "115    116  0.672251  0.814166\n",
       "150    151  0.633706  0.796709\n",
       "104    105  0.703351  0.828243\n",
       "68      69  0.756962  0.854997\n",
       "12      13  0.944944  0.966759\n",
       "50      51  0.857224  0.914599\n",
       "48      49  0.888368  0.932829"
      ]
     },
     "execution_count": 95,
     "metadata": {},
     "output_type": "execute_result"
    }
   ],
   "source": [
    "new_soh.sample(10)"
   ]
  },
  {
   "cell_type": "code",
   "execution_count": 96,
   "metadata": {},
   "outputs": [
    {
     "name": "stdout",
     "output_type": "stream",
     "text": [
      "Root Mean Square Error:  0.11722458998285062\n"
     ]
    }
   ],
   "source": [
    "rms = np.sqrt(mean_squared_error(new_soh['SoH'], new_soh['NewSoH']))\n",
    "print('Root Mean Square Error: ', rms)"
   ]
  },
  {
   "cell_type": "code",
   "execution_count": 97,
   "id": "fa1f563f",
   "metadata": {
    "execution": {
     "iopub.execute_input": "2021-07-22T04:48:23.529438Z",
     "iopub.status.busy": "2021-07-22T04:48:23.528699Z",
     "iopub.status.idle": "2021-07-22T04:48:23.813697Z",
     "shell.execute_reply": "2021-07-22T04:48:23.814210Z",
     "shell.execute_reply.started": "2021-07-21T14:57:57.379784Z"
    },
    "papermill": {
     "duration": 0.980385,
     "end_time": "2021-07-22T04:48:23.814387",
     "exception": false,
     "start_time": "2021-07-22T04:48:22.834002",
     "status": "completed"
    },
    "tags": []
   },
   "outputs": [
    {
     "data": {
      "text/plain": [
       "Text(0.5, 1.0, 'Discharge B0006')"
      ]
     },
     "execution_count": 97,
     "metadata": {},
     "output_type": "execute_result"
    },
    {
     "data": {
      "image/png": "[encoded data removed]",
      "text/plain": [
       "<Figure size 1152x720 with 1 Axes>"
      ]
     },
     "metadata": {},
     "output_type": "display_data"
    }
   ],
   "source": [
    "plot_df = new_soh.loc[(new_soh['cycle']>=1),['cycle','SoH', 'NewSoH']]\n",
    "sns.set_style(\"white\")\n",
    "plt.figure(figsize=(16, 10))\n",
    "plt.plot(plot_df['cycle'], plot_df['SoH'], label='SoH')\n",
    "plt.plot(plot_df['cycle'], plot_df['NewSoH'], label='Predicted SoH')\n",
    "plt.ylabel('SOH')\n",
    "adf = plt.gca().get_xaxis().get_major_formatter()\n",
    "plt.xlabel('cycle')\n",
    "plt.legend()\n",
    "plt.title('Discharge B0006')"
   ]
  },
  {
   "cell_type": "code",
   "execution_count": 98,
   "metadata": {},
   "outputs": [
    {
     "name": "stdout",
     "output_type": "stream",
     "text": [
      "Total data in dataset:  616\n",
      "[1, 24, datetime.datetime(2008, 4, 2, 15, 25, 41), 1.8564874208181574, 4.191491807505295, -0.004901589207462691, 24.330033885570543, -0.0006, 0.0, 0.0]\n"
     ]
    }
   ],
   "source": [
    "dataset_val, capacity_val = load_data('B0005')"
   ]
  },
  {
   "cell_type": "code",
   "execution_count": 99,
   "metadata": {},
   "outputs": [],
   "source": [
    "attrib=['cycle', 'datetime', 'capacity']"
   ]
  },
  {
   "cell_type": "code",
   "execution_count": 100,
   "metadata": {},
   "outputs": [],
   "source": [
    "dis_ele = capacity_val[attrib]"
   ]
  },
  {
   "cell_type": "code",
   "execution_count": 101,
   "metadata": {},
   "outputs": [],
   "source": [
    "rows=['cycle','capacity']"
   ]
  },
  {
   "cell_type": "code",
   "execution_count": 102,
   "metadata": {},
   "outputs": [],
   "source": [
    "dataset=dis_ele[rows]"
   ]
  },
  {
   "cell_type": "code",
   "execution_count": 103,
   "metadata": {},
   "outputs": [],
   "source": [
    "data_train=dataset[(dataset['cycle']<50)]"
   ]
  },
  {
   "cell_type": "code",
   "execution_count": 104,
   "metadata": {},
   "outputs": [],
   "source": [
    "data_set_train=data_train.iloc[:,1:2].values"
   ]
  },
  {
   "cell_type": "code",
   "execution_count": 105,
   "metadata": {},
   "outputs": [],
   "source": [
    "data_test=dataset[(dataset['cycle']>=50)]"
   ]
  },
  {
   "cell_type": "code",
   "execution_count": 106,
   "metadata": {},
   "outputs": [],
   "source": [
    "data_set_test=data_test.iloc[:,1:2].values"
   ]
  },
  {
   "cell_type": "code",
   "execution_count": 107,
   "metadata": {},
   "outputs": [],
   "source": [
    "sc=MinMaxScaler(feature_range=(0,1))"
   ]
  },
  {
   "cell_type": "code",
   "execution_count": 108,
   "metadata": {},
   "outputs": [],
   "source": [
    "data_set_train=sc.fit_transform(data_set_train)"
   ]
  },
  {
   "cell_type": "code",
   "execution_count": 109,
   "metadata": {},
   "outputs": [],
   "source": [
    "data_set_test=sc.transform(data_set_test)"
   ]
  },
  {
   "cell_type": "code",
   "execution_count": 110,
   "metadata": {},
   "outputs": [],
   "source": [
    "X_train=[]\n",
    "y_train=[]"
   ]
  },
  {
   "cell_type": "code",
   "execution_count": 111,
   "metadata": {},
   "outputs": [],
   "source": [
    "for i in range(10,49):\n",
    "    X_train.append(data_set_train[i-10:i,0])\n",
    "    y_train.append(data_set_train[i,0])"
   ]
  },
  {
   "cell_type": "code",
   "execution_count": 112,
   "metadata": {},
   "outputs": [],
   "source": [
    "X_train,y_train=np.array(X_train),np.array(y_train)"
   ]
  },
  {
   "cell_type": "code",
   "execution_count": 113,
   "metadata": {},
   "outputs": [],
   "source": [
    "X_train=np.reshape(X_train,(X_train.shape[0],X_train.shape[1],1))"
   ]
  },
  {
   "cell_type": "code",
   "execution_count": 114,
   "metadata": {},
   "outputs": [],
   "source": [
    "def create_lstm_model():\n",
    "    regress = Sequential()\n",
    "    regress.add(LSTM(units=200, return_sequences=True, input_shape=(X_train.shape[1],1)))\n",
    "    regress.add(Dropout(0.3))\n",
    "    regress.add(LSTM(units=200, return_sequences=True))\n",
    "    regress.add(Dropout(0.3))\n",
    "    regress.add(LSTM(units=200, return_sequences=True))\n",
    "    regress.add(Dropout(0.3))\n",
    "    regress.add(LSTM(units=200))\n",
    "    regress.add(Dropout(0.3))\n",
    "    regress.add(Dense(units=1))\n",
    "    return regress\n",
    "   "
   ]
  },
  {
   "cell_type": "code",
   "execution_count": 115,
   "metadata": {},
   "outputs": [],
   "source": [
    "regress = create_lstm_model()"
   ]
  },
  {
   "cell_type": "code",
   "execution_count": 116,
   "metadata": {},
   "outputs": [],
   "source": [
    "regress.compile(optimizer='adam',loss='mean_squared_error')"
   ]
  },
  {
   "cell_type": "code",
   "execution_count": 117,
   "id": "8a144880",
   "metadata": {
    "execution": {
     "iopub.execute_input": "2021-07-22T04:48:31.982130Z",
     "iopub.status.busy": "2021-07-22T04:48:31.981387Z",
     "iopub.status.idle": "2021-07-22T04:48:33.064373Z",
     "shell.execute_reply": "2021-07-22T04:48:33.063796Z",
     "shell.execute_reply.started": "2021-07-21T14:57:58.998379Z"
    },
    "papermill": {
     "duration": 1.766531,
     "end_time": "2021-07-22T04:48:33.064517",
     "exception": false,
     "start_time": "2021-07-22T04:48:31.297986",
     "status": "completed"
    },
    "tags": []
   },
   "outputs": [
    {
     "name": "stdout",
     "output_type": "stream",
     "text": [
      "Model: \"sequential_1\"\n",
      "_________________________________________________________________\n",
      " Layer (type)                Output Shape              Param #   \n",
      "=================================================================\n",
      " lstm (LSTM)                 (None, 10, 200)           161600    \n",
      "                                                                 \n",
      " dropout_1 (Dropout)         (None, 10, 200)           0         \n",
      "                                                                 \n",
      " lstm_1 (LSTM)               (None, 10, 200)           320800    \n",
      "                                                                 \n",
      " dropout_2 (Dropout)         (None, 10, 200)           0         \n",
      "                                                                 \n",
      " lstm_2 (LSTM)               (None, 10, 200)           320800    \n",
      "                                                                 \n",
      " dropout_3 (Dropout)         (None, 10, 200)           0         \n",
      "                                                                 \n",
      " lstm_3 (LSTM)               (None, 200)               320800    \n",
      "                                                                 \n",
      " dropout_4 (Dropout)         (None, 200)               0         \n",
      "                                                                 \n",
      " dense_4 (Dense)             (None, 1)                 201       \n",
      "                                                                 \n",
      "=================================================================\n",
      "Total params: 1,124,201\n",
      "Trainable params: 1,124,201\n",
      "Non-trainable params: 0\n",
      "_________________________________________________________________\n"
     ]
    }
   ],
   "source": [
    "regress.summary()"
   ]
  },
  {
   "cell_type": "code",
   "execution_count": null,
   "id": "091b7174",
   "metadata": {
    "execution": {
     "iopub.execute_input": "2021-07-22T04:48:34.430939Z",
     "iopub.status.busy": "2021-07-22T04:48:34.428027Z",
     "iopub.status.idle": "2021-07-22T04:49:07.528092Z",
     "shell.execute_reply": "2021-07-22T04:49:07.527435Z",
     "shell.execute_reply.started": "2021-07-21T14:58:00.03382Z"
    },
    "papermill": {
     "duration": 33.784392,
     "end_time": "2021-07-22T04:49:07.528269",
     "exception": false,
     "start_time": "2021-07-22T04:48:33.743877",
     "status": "completed"
    },
    "tags": []
   },
   "outputs": [
    {
     "name": "stdout",
     "output_type": "stream",
     "text": [
      "Epoch 1/200\n"
     ]
    }
   ],
   "source": [
    "regress.fit(X_train,y_train,epochs=200,batch_size=25)"
   ]
  },
  {
   "cell_type": "code",
   "execution_count": null,
   "id": "aa54e988",
   "metadata": {
    "execution": {
     "iopub.execute_input": "2021-07-22T04:49:09.417806Z",
     "iopub.status.busy": "2021-07-22T04:49:09.417127Z",
     "iopub.status.idle": "2021-07-22T04:49:09.419668Z",
     "shell.execute_reply": "2021-07-22T04:49:09.420294Z",
     "shell.execute_reply.started": "2021-07-21T14:58:30.906209Z"
    },
    "papermill": {
     "duration": 0.974012,
     "end_time": "2021-07-22T04:49:09.420479",
     "exception": false,
     "start_time": "2021-07-22T04:49:08.446467",
     "status": "completed"
    },
    "tags": []
   },
   "outputs": [],
   "source": [
    "print(len(data_test))"
   ]
  },
  {
   "cell_type": "code",
   "execution_count": null,
   "metadata": {},
   "outputs": [],
   "source": [
    "data_total=pd.concat((data_train['capacity'], data_test['capacity']),axis=0)"
   ]
  },
  {
   "cell_type": "code",
   "execution_count": null,
   "metadata": {},
   "outputs": [],
   "source": [
    "inputs=data_total[len(data_total)-len(data_test)-10:].values"
   ]
  },
  {
   "cell_type": "code",
   "execution_count": null,
   "metadata": {},
   "outputs": [],
   "source": [
    "inputs=inputs.reshape(-1,1)"
   ]
  },
  {
   "cell_type": "code",
   "execution_count": null,
   "metadata": {},
   "outputs": [],
   "source": [
    "inputs=sc.transform(inputs)"
   ]
  },
  {
   "cell_type": "code",
   "execution_count": null,
   "metadata": {},
   "outputs": [],
   "source": [
    "X_test=[]"
   ]
  },
  {
   "cell_type": "code",
   "execution_count": null,
   "metadata": {},
   "outputs": [],
   "source": [
    "for i in range(10,129):\n",
    "    X_test.append(inputs[i-10:i,0])"
   ]
  },
  {
   "cell_type": "code",
   "execution_count": null,
   "metadata": {},
   "outputs": [],
   "source": [
    "X_test=np.array(X_test)"
   ]
  },
  {
   "cell_type": "code",
   "execution_count": null,
   "metadata": {},
   "outputs": [],
   "source": [
    "X_test=np.reshape(X_test,(X_test.shape[0],X_test.shape[1],1))"
   ]
  },
  {
   "cell_type": "code",
   "execution_count": null,
   "metadata": {},
   "outputs": [],
   "source": [
    "pred=regress.predict(X_test)"
   ]
  },
  {
   "cell_type": "code",
   "execution_count": null,
   "metadata": {},
   "outputs": [],
   "source": [
    "print(pred.shape)"
   ]
  },
  {
   "cell_type": "code",
   "execution_count": null,
   "metadata": {},
   "outputs": [],
   "source": [
    "pred=sc.inverse_transform(pred)"
   ]
  },
  {
   "cell_type": "code",
   "execution_count": null,
   "metadata": {},
   "outputs": [],
   "source": [
    "pred=pred[:,0]"
   ]
  },
  {
   "cell_type": "code",
   "execution_count": null,
   "metadata": {},
   "outputs": [],
   "source": [
    "tests=data_test.iloc[:,1:2]"
   ]
  },
  {
   "cell_type": "code",
   "execution_count": null,
   "metadata": {},
   "outputs": [],
   "source": [
    "rmse = np.sqrt(mean_squared_error(tests, pred))"
   ]
  },
  {
   "cell_type": "code",
   "execution_count": null,
   "metadata": {},
   "outputs": [],
   "source": [
    "print('Test RMSE: %.3f' % rmse)"
   ]
  },
  {
   "cell_type": "code",
   "execution_count": null,
   "metadata": {},
   "outputs": [],
   "source": [
    "metrics.r2_score(tests,pred)"
   ]
  },
  {
   "cell_type": "code",
   "execution_count": null,
   "metadata": {},
   "outputs": [],
   "source": [
    "ln = len(data_train)"
   ]
  },
  {
   "cell_type": "code",
   "execution_count": null,
   "metadata": {},
   "outputs": [],
   "source": [
    "data_test['pre']=pred"
   ]
  },
  {
   "cell_type": "code",
   "execution_count": null,
   "metadata": {},
   "outputs": [],
   "source": [
    "plot_df = dataset.loc[(dataset['cycle']>=1),['cycle','capacity']]"
   ]
  },
  {
   "cell_type": "code",
   "execution_count": null,
   "metadata": {},
   "outputs": [],
   "source": [
    "plot_per = data_test.loc[(data_test['cycle']>=ln),['cycle','pre']]"
   ]
  },
  {
   "cell_type": "code",
   "execution_count": null,
   "id": "4de57b00",
   "metadata": {
    "execution": {
     "iopub.execute_input": "2021-07-22T04:49:16.497961Z",
     "iopub.status.busy": "2021-07-22T04:49:16.497149Z",
     "iopub.status.idle": "2021-07-22T04:49:16.877130Z",
     "shell.execute_reply": "2021-07-22T04:49:16.876386Z",
     "shell.execute_reply.started": "2021-07-21T14:58:32.382252Z"
    },
    "papermill": {
     "duration": 1.30042,
     "end_time": "2021-07-22T04:49:16.877281",
     "exception": false,
     "start_time": "2021-07-22T04:49:15.576861",
     "status": "completed"
    },
    "tags": []
   },
   "outputs": [],
   "source": [
    "plt.figure(figsize=(16, 10))\n",
    "plt.plot(plot_df['cycle'], plot_df['capacity'], label=\"Actual data\", color='blue')\n",
    "plt.plot([0.,168], [1.38, 1.38],dashes=[6, 2], label=\"treshold\")\n",
    "plt.ylabel('Capacity')\n",
    "adf = plt.gca().get_xaxis().get_major_formatter()\n",
    "plt.xlabel('cycle')\n",
    "plt.legend()\n",
    "plt.title('Discharge B0005 (prediction) start in cycle 50 -RULe=-8, window-size=10')"
   ]
  },
  {
   "cell_type": "code",
   "execution_count": null,
   "metadata": {},
   "outputs": [],
   "source": [
    "pred=0\n",
    "Afil=0\n",
    "Pfil=0"
   ]
  },
  {
   "cell_type": "code",
   "execution_count": null,
   "metadata": {},
   "outputs": [],
   "source": [
    "a=data_test['capacity'].values\n",
    "b=data_test['pre'].values"
   ]
  },
  {
   "cell_type": "code",
   "execution_count": null,
   "metadata": {},
   "outputs": [],
   "source": [
    "j=0\n",
    "k=0"
   ]
  },
  {
   "cell_type": "code",
   "execution_count": null,
   "metadata": {},
   "outputs": [],
   "source": [
    "for i in range(len(a)):\n",
    "    actual=a[i]\n",
    "    \n",
    "    if actual<=1.38:\n",
    "        j=i\n",
    "        Afil=j\n",
    "        break"
   ]
  },
  {
   "cell_type": "code",
   "execution_count": null,
   "metadata": {},
   "outputs": [],
   "source": [
    "for i in range(len(a)):\n",
    "    pred=b[i]\n",
    "    if pred< 1.38:\n",
    "        k=i\n",
    "        Pfil=k\n",
    "        break"
   ]
  },
  {
   "cell_type": "code",
   "execution_count": null,
   "id": "b70bde80",
   "metadata": {
    "execution": {
     "iopub.execute_input": "2021-07-22T04:49:20.629070Z",
     "iopub.status.busy": "2021-07-22T04:49:20.628162Z",
     "iopub.status.idle": "2021-07-22T04:49:20.631010Z",
     "shell.execute_reply": "2021-07-22T04:49:20.631515Z",
     "shell.execute_reply.started": "2021-07-21T14:58:32.719138Z"
    },
    "papermill": {
     "duration": 0.935392,
     "end_time": "2021-07-22T04:49:20.631706",
     "exception": false,
     "start_time": "2021-07-22T04:49:19.696314",
     "status": "completed"
    },
    "tags": []
   },
   "outputs": [],
   "source": [
    "print(\"The Actual fail at cycle number: \"+ str(Afil+ln))\n",
    "print(\"The prediction fail at cycle number: \"+ str(Pfil+ln))\n",
    "RULerror=Pfil-Afil\n",
    "print(\"The error of RUL= \"+ str(RULerror)+ \" Cycle(s)\")"
   ]
  },
  {
   "cell_type": "code",
   "execution_count": null,
   "metadata": {},
   "outputs": [],
   "source": []
  },
  {
   "cell_type": "code",
   "execution_count": null,
   "metadata": {},
   "outputs": [],
   "source": []
  },
  {
   "cell_type": "code",
   "execution_count": null,
   "metadata": {},
   "outputs": [],
   "source": []
  }
 ],
 "metadata": {
  "kernelspec": {
   "display_name": "Python 3 (ipykernel)",
   "language": "python",
   "name": "python3"
  },
  "language_info": {
   "codemirror_mode": {
    "name": "ipython",
    "version": 3
   },
   "file_extension": ".py",
   "mimetype": "text/x-python",
   "name": "python",
   "nbconvert_exporter": "python",
   "pygments_lexer": "ipython3",
   "version": "3.8.5"
  },
  "papermill": {
   "default_parameters": {},
   "duration": 274.33584,
   "end_time": "2021-07-22T04:49:24.036616",
   "environment_variables": {},
   "exception": null,
   "input_path": "__notebook__.ipynb",
   "output_path": "__notebook__.ipynb",
   "parameters": {},
   "start_time": "2021-07-22T04:44:49.700776",
   "version": "2.3.3"
  }
 },
 "nbformat": 4,
 "nbformat_minor": 5
}
